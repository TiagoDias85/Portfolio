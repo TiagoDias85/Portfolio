{
 "cells": [
  {
   "cell_type": "code",
   "execution_count": 1,
   "metadata": {},
   "outputs": [],
   "source": [
    "import pandas as pd"
   ]
  },
  {
   "cell_type": "code",
   "execution_count": 2,
   "metadata": {},
   "outputs": [],
   "source": [
    "df_coffee = pd.read_csv(\"Coffee_Chain_Sales .csv\")"
   ]
  },
  {
   "cell_type": "code",
   "execution_count": 3,
   "metadata": {},
   "outputs": [
    {
     "data": {
      "text/html": [
       "<div>\n",
       "<style scoped>\n",
       "    .dataframe tbody tr th:only-of-type {\n",
       "        vertical-align: middle;\n",
       "    }\n",
       "\n",
       "    .dataframe tbody tr th {\n",
       "        vertical-align: top;\n",
       "    }\n",
       "\n",
       "    .dataframe thead th {\n",
       "        text-align: right;\n",
       "    }\n",
       "</style>\n",
       "<table border=\"1\" class=\"dataframe\">\n",
       "  <thead>\n",
       "    <tr style=\"text-align: right;\">\n",
       "      <th></th>\n",
       "      <th>Area Code</th>\n",
       "      <th>Cogs</th>\n",
       "      <th>DifferenceBetweenActualandTargetProfit</th>\n",
       "      <th>Date</th>\n",
       "      <th>Inventory Margin</th>\n",
       "      <th>Margin</th>\n",
       "      <th>Market_size</th>\n",
       "      <th>Market</th>\n",
       "      <th>Marketing</th>\n",
       "      <th>Product_line</th>\n",
       "      <th>...</th>\n",
       "      <th>Product</th>\n",
       "      <th>Profit</th>\n",
       "      <th>Sales</th>\n",
       "      <th>State</th>\n",
       "      <th>Target_cogs</th>\n",
       "      <th>Target_margin</th>\n",
       "      <th>Target_profit</th>\n",
       "      <th>Target_sales</th>\n",
       "      <th>Total_expenses</th>\n",
       "      <th>Type</th>\n",
       "    </tr>\n",
       "  </thead>\n",
       "  <tbody>\n",
       "    <tr>\n",
       "      <th>0</th>\n",
       "      <td>303</td>\n",
       "      <td>51</td>\n",
       "      <td>-35</td>\n",
       "      <td>10/1/2012</td>\n",
       "      <td>503</td>\n",
       "      <td>71</td>\n",
       "      <td>Major Market</td>\n",
       "      <td>Central</td>\n",
       "      <td>46</td>\n",
       "      <td>Leaves</td>\n",
       "      <td>...</td>\n",
       "      <td>Lemon</td>\n",
       "      <td>-5</td>\n",
       "      <td>122</td>\n",
       "      <td>Colorado</td>\n",
       "      <td>30</td>\n",
       "      <td>60</td>\n",
       "      <td>30</td>\n",
       "      <td>90</td>\n",
       "      <td>76</td>\n",
       "      <td>Decaf</td>\n",
       "    </tr>\n",
       "    <tr>\n",
       "      <th>1</th>\n",
       "      <td>970</td>\n",
       "      <td>52</td>\n",
       "      <td>-24</td>\n",
       "      <td>10/1/2012</td>\n",
       "      <td>405</td>\n",
       "      <td>71</td>\n",
       "      <td>Major Market</td>\n",
       "      <td>Central</td>\n",
       "      <td>17</td>\n",
       "      <td>Leaves</td>\n",
       "      <td>...</td>\n",
       "      <td>Mint</td>\n",
       "      <td>26</td>\n",
       "      <td>123</td>\n",
       "      <td>Colorado</td>\n",
       "      <td>30</td>\n",
       "      <td>60</td>\n",
       "      <td>50</td>\n",
       "      <td>90</td>\n",
       "      <td>45</td>\n",
       "      <td>Decaf</td>\n",
       "    </tr>\n",
       "    <tr>\n",
       "      <th>2</th>\n",
       "      <td>409</td>\n",
       "      <td>43</td>\n",
       "      <td>-22</td>\n",
       "      <td>10/2/2012</td>\n",
       "      <td>419</td>\n",
       "      <td>64</td>\n",
       "      <td>Major Market</td>\n",
       "      <td>South</td>\n",
       "      <td>13</td>\n",
       "      <td>Leaves</td>\n",
       "      <td>...</td>\n",
       "      <td>Lemon</td>\n",
       "      <td>28</td>\n",
       "      <td>107</td>\n",
       "      <td>Texas</td>\n",
       "      <td>30</td>\n",
       "      <td>60</td>\n",
       "      <td>50</td>\n",
       "      <td>90</td>\n",
       "      <td>36</td>\n",
       "      <td>Decaf</td>\n",
       "    </tr>\n",
       "    <tr>\n",
       "      <th>3</th>\n",
       "      <td>850</td>\n",
       "      <td>38</td>\n",
       "      <td>-15</td>\n",
       "      <td>10/3/2012</td>\n",
       "      <td>871</td>\n",
       "      <td>56</td>\n",
       "      <td>Major Market</td>\n",
       "      <td>East</td>\n",
       "      <td>10</td>\n",
       "      <td>Leaves</td>\n",
       "      <td>...</td>\n",
       "      <td>Darjeeling</td>\n",
       "      <td>35</td>\n",
       "      <td>94</td>\n",
       "      <td>Florida</td>\n",
       "      <td>40</td>\n",
       "      <td>60</td>\n",
       "      <td>50</td>\n",
       "      <td>100</td>\n",
       "      <td>21</td>\n",
       "      <td>Regular</td>\n",
       "    </tr>\n",
       "    <tr>\n",
       "      <th>4</th>\n",
       "      <td>562</td>\n",
       "      <td>72</td>\n",
       "      <td>6</td>\n",
       "      <td>10/4/2012</td>\n",
       "      <td>650</td>\n",
       "      <td>110</td>\n",
       "      <td>Major Market</td>\n",
       "      <td>West</td>\n",
       "      <td>23</td>\n",
       "      <td>Leaves</td>\n",
       "      <td>...</td>\n",
       "      <td>Green Tea</td>\n",
       "      <td>56</td>\n",
       "      <td>182</td>\n",
       "      <td>California</td>\n",
       "      <td>20</td>\n",
       "      <td>60</td>\n",
       "      <td>50</td>\n",
       "      <td>80</td>\n",
       "      <td>54</td>\n",
       "      <td>Regular</td>\n",
       "    </tr>\n",
       "    <tr>\n",
       "      <th>...</th>\n",
       "      <td>...</td>\n",
       "      <td>...</td>\n",
       "      <td>...</td>\n",
       "      <td>...</td>\n",
       "      <td>...</td>\n",
       "      <td>...</td>\n",
       "      <td>...</td>\n",
       "      <td>...</td>\n",
       "      <td>...</td>\n",
       "      <td>...</td>\n",
       "      <td>...</td>\n",
       "      <td>...</td>\n",
       "      <td>...</td>\n",
       "      <td>...</td>\n",
       "      <td>...</td>\n",
       "      <td>...</td>\n",
       "      <td>...</td>\n",
       "      <td>...</td>\n",
       "      <td>...</td>\n",
       "      <td>...</td>\n",
       "      <td>...</td>\n",
       "    </tr>\n",
       "    <tr>\n",
       "      <th>1057</th>\n",
       "      <td>775</td>\n",
       "      <td>250</td>\n",
       "      <td>133</td>\n",
       "      <td>8/23/2015</td>\n",
       "      <td>1820</td>\n",
       "      <td>251</td>\n",
       "      <td>Small Market</td>\n",
       "      <td>West</td>\n",
       "      <td>70</td>\n",
       "      <td>Leaves</td>\n",
       "      <td>...</td>\n",
       "      <td>Earl Grey</td>\n",
       "      <td>233</td>\n",
       "      <td>534</td>\n",
       "      <td>Nevada</td>\n",
       "      <td>180</td>\n",
       "      <td>180</td>\n",
       "      <td>100</td>\n",
       "      <td>360</td>\n",
       "      <td>94</td>\n",
       "      <td>Regular</td>\n",
       "    </tr>\n",
       "    <tr>\n",
       "      <th>1058</th>\n",
       "      <td>971</td>\n",
       "      <td>88</td>\n",
       "      <td>48</td>\n",
       "      <td>8/24/2015</td>\n",
       "      <td>817</td>\n",
       "      <td>133</td>\n",
       "      <td>Small Market</td>\n",
       "      <td>West</td>\n",
       "      <td>29</td>\n",
       "      <td>Leaves</td>\n",
       "      <td>...</td>\n",
       "      <td>Earl Grey</td>\n",
       "      <td>108</td>\n",
       "      <td>236</td>\n",
       "      <td>Oregon</td>\n",
       "      <td>60</td>\n",
       "      <td>100</td>\n",
       "      <td>60</td>\n",
       "      <td>160</td>\n",
       "      <td>60</td>\n",
       "      <td>Regular</td>\n",
       "    </tr>\n",
       "    <tr>\n",
       "      <th>1059</th>\n",
       "      <td>775</td>\n",
       "      <td>294</td>\n",
       "      <td>-285</td>\n",
       "      <td>8/25/2015</td>\n",
       "      <td>8252</td>\n",
       "      <td>-294</td>\n",
       "      <td>Small Market</td>\n",
       "      <td>West</td>\n",
       "      <td>111</td>\n",
       "      <td>Leaves</td>\n",
       "      <td>...</td>\n",
       "      <td>Green Tea</td>\n",
       "      <td>-605</td>\n",
       "      <td>33</td>\n",
       "      <td>Nevada</td>\n",
       "      <td>210</td>\n",
       "      <td>-210</td>\n",
       "      <td>-320</td>\n",
       "      <td>0</td>\n",
       "      <td>145</td>\n",
       "      <td>Regular</td>\n",
       "    </tr>\n",
       "    <tr>\n",
       "      <th>1060</th>\n",
       "      <td>503</td>\n",
       "      <td>134</td>\n",
       "      <td>80</td>\n",
       "      <td>8/26/2015</td>\n",
       "      <td>690</td>\n",
       "      <td>186</td>\n",
       "      <td>Small Market</td>\n",
       "      <td>West</td>\n",
       "      <td>41</td>\n",
       "      <td>Leaves</td>\n",
       "      <td>...</td>\n",
       "      <td>Green Tea</td>\n",
       "      <td>180</td>\n",
       "      <td>341</td>\n",
       "      <td>Oregon</td>\n",
       "      <td>90</td>\n",
       "      <td>140</td>\n",
       "      <td>100</td>\n",
       "      <td>230</td>\n",
       "      <td>65</td>\n",
       "      <td>Regular</td>\n",
       "    </tr>\n",
       "    <tr>\n",
       "      <th>1061</th>\n",
       "      <td>435</td>\n",
       "      <td>20</td>\n",
       "      <td>-22</td>\n",
       "      <td>8/27/2015</td>\n",
       "      <td>218</td>\n",
       "      <td>25</td>\n",
       "      <td>Small Market</td>\n",
       "      <td>West</td>\n",
       "      <td>7</td>\n",
       "      <td>Leaves</td>\n",
       "      <td>...</td>\n",
       "      <td>Green Tea</td>\n",
       "      <td>-22</td>\n",
       "      <td>48</td>\n",
       "      <td>Utah</td>\n",
       "      <td>10</td>\n",
       "      <td>20</td>\n",
       "      <td>0</td>\n",
       "      <td>30</td>\n",
       "      <td>40</td>\n",
       "      <td>Regular</td>\n",
       "    </tr>\n",
       "  </tbody>\n",
       "</table>\n",
       "<p>1062 rows × 21 columns</p>\n",
       "</div>"
      ],
      "text/plain": [
       "      Area Code  Cogs  DifferenceBetweenActualandTargetProfit       Date  \\\n",
       "0           303    51                                     -35  10/1/2012   \n",
       "1           970    52                                     -24  10/1/2012   \n",
       "2           409    43                                     -22  10/2/2012   \n",
       "3           850    38                                     -15  10/3/2012   \n",
       "4           562    72                                       6  10/4/2012   \n",
       "...         ...   ...                                     ...        ...   \n",
       "1057        775   250                                     133  8/23/2015   \n",
       "1058        971    88                                      48  8/24/2015   \n",
       "1059        775   294                                    -285  8/25/2015   \n",
       "1060        503   134                                      80  8/26/2015   \n",
       "1061        435    20                                     -22  8/27/2015   \n",
       "\n",
       "      Inventory Margin  Margin   Market_size   Market  Marketing Product_line  \\\n",
       "0                  503      71  Major Market  Central         46       Leaves   \n",
       "1                  405      71  Major Market  Central         17       Leaves   \n",
       "2                  419      64  Major Market    South         13       Leaves   \n",
       "3                  871      56  Major Market     East         10       Leaves   \n",
       "4                  650     110  Major Market     West         23       Leaves   \n",
       "...                ...     ...           ...      ...        ...          ...   \n",
       "1057              1820     251  Small Market     West         70       Leaves   \n",
       "1058               817     133  Small Market     West         29       Leaves   \n",
       "1059              8252    -294  Small Market     West        111       Leaves   \n",
       "1060               690     186  Small Market     West         41       Leaves   \n",
       "1061               218      25  Small Market     West          7       Leaves   \n",
       "\n",
       "      ...     Product Profit  Sales       State Target_cogs  Target_margin  \\\n",
       "0     ...       Lemon     -5    122    Colorado          30             60   \n",
       "1     ...        Mint     26    123    Colorado          30             60   \n",
       "2     ...       Lemon     28    107       Texas          30             60   \n",
       "3     ...  Darjeeling     35     94     Florida          40             60   \n",
       "4     ...   Green Tea     56    182  California          20             60   \n",
       "...   ...         ...    ...    ...         ...         ...            ...   \n",
       "1057  ...   Earl Grey    233    534      Nevada         180            180   \n",
       "1058  ...   Earl Grey    108    236      Oregon          60            100   \n",
       "1059  ...   Green Tea   -605     33      Nevada         210           -210   \n",
       "1060  ...   Green Tea    180    341      Oregon          90            140   \n",
       "1061  ...   Green Tea    -22     48        Utah          10             20   \n",
       "\n",
       "      Target_profit  Target_sales   Total_expenses     Type  \n",
       "0                30             90              76    Decaf  \n",
       "1                50             90              45    Decaf  \n",
       "2                50             90              36    Decaf  \n",
       "3                50            100              21  Regular  \n",
       "4                50             80              54  Regular  \n",
       "...             ...            ...             ...      ...  \n",
       "1057            100            360              94  Regular  \n",
       "1058             60            160              60  Regular  \n",
       "1059           -320              0             145  Regular  \n",
       "1060            100            230              65  Regular  \n",
       "1061              0             30              40  Regular  \n",
       "\n",
       "[1062 rows x 21 columns]"
      ]
     },
     "metadata": {},
     "output_type": "display_data"
    }
   ],
   "source": [
    "display(df_coffee)"
   ]
  },
  {
   "cell_type": "code",
   "execution_count": 19,
   "metadata": {},
   "outputs": [
    {
     "name": "stdout",
     "output_type": "stream",
     "text": [
      "Index(['Area Code', 'Cogs', 'DifferenceBetweenActualandTargetProfit', 'Date',\n",
      "       'Inventory Margin', 'Margin', 'Market_size', 'Market', 'Marketing',\n",
      "       'Product_line', 'Product_type', 'Product', 'Profit', 'Sales', 'State',\n",
      "       'Target_cogs', 'Target_margin', 'Target_profit', 'Target_sales ',\n",
      "       'Total_expenses', 'Type'],\n",
      "      dtype='object')\n"
     ]
    }
   ],
   "source": [
    "# verificando o nome das colunas exato\n",
    "print(df_coffee.columns)\n"
   ]
  },
  {
   "cell_type": "code",
   "execution_count": 21,
   "metadata": {},
   "outputs": [],
   "source": [
    "# Removendo espaços em branco nos nomes das colunas\n",
    "df_coffee.columns = df_coffee.columns.str.strip()"
   ]
  },
  {
   "cell_type": "code",
   "execution_count": 22,
   "metadata": {},
   "outputs": [
    {
     "name": "stdout",
     "output_type": "stream",
     "text": [
      "<class 'pandas.core.frame.DataFrame'>\n",
      "Index: 1062 entries, 977 to 1059\n",
      "Data columns (total 21 columns):\n",
      " #   Column                                  Non-Null Count  Dtype \n",
      "---  ------                                  --------------  ----- \n",
      " 0   Area Code                               1062 non-null   int64 \n",
      " 1   Cogs                                    1062 non-null   int64 \n",
      " 2   DifferenceBetweenActualandTargetProfit  1062 non-null   int64 \n",
      " 3   Date                                    1062 non-null   object\n",
      " 4   Inventory Margin                        1062 non-null   int64 \n",
      " 5   Margin                                  1062 non-null   int64 \n",
      " 6   Market_size                             1062 non-null   object\n",
      " 7   Market                                  1062 non-null   object\n",
      " 8   Marketing                               1062 non-null   int64 \n",
      " 9   Product_line                            1062 non-null   object\n",
      " 10  Product_type                            1062 non-null   object\n",
      " 11  Product                                 1062 non-null   object\n",
      " 12  Profit                                  1062 non-null   int64 \n",
      " 13  Sales                                   1062 non-null   int64 \n",
      " 14  State                                   1062 non-null   object\n",
      " 15  Target_cogs                             1062 non-null   int64 \n",
      " 16  Target_margin                           1062 non-null   int64 \n",
      " 17  Target_profit                           1062 non-null   int64 \n",
      " 18  Target_sales                            1062 non-null   int64 \n",
      " 19  Total_expenses                          1062 non-null   int64 \n",
      " 20  Type                                    1062 non-null   object\n",
      "dtypes: int64(13), object(8)\n",
      "memory usage: 182.5+ KB\n"
     ]
    }
   ],
   "source": [
    "df_coffee.info()"
   ]
  },
  {
   "cell_type": "code",
   "execution_count": 36,
   "metadata": {},
   "outputs": [
    {
     "data": {
      "text/html": [
       "<div>\n",
       "<style scoped>\n",
       "    .dataframe tbody tr th:only-of-type {\n",
       "        vertical-align: middle;\n",
       "    }\n",
       "\n",
       "    .dataframe tbody tr th {\n",
       "        vertical-align: top;\n",
       "    }\n",
       "\n",
       "    .dataframe thead th {\n",
       "        text-align: right;\n",
       "    }\n",
       "</style>\n",
       "<table border=\"1\" class=\"dataframe\">\n",
       "  <thead>\n",
       "    <tr style=\"text-align: right;\">\n",
       "      <th></th>\n",
       "      <th>Area Code</th>\n",
       "      <th>Target_profit</th>\n",
       "      <th>Target_sales</th>\n",
       "      <th>DifferenceBetweenActualandTargetProfit</th>\n",
       "    </tr>\n",
       "  </thead>\n",
       "  <tbody>\n",
       "    <tr>\n",
       "      <th>977</th>\n",
       "      <td>818</td>\n",
       "      <td>470</td>\n",
       "      <td>960</td>\n",
       "      <td>-103</td>\n",
       "    </tr>\n",
       "    <tr>\n",
       "      <th>889</th>\n",
       "      <td>626</td>\n",
       "      <td>470</td>\n",
       "      <td>960</td>\n",
       "      <td>-223</td>\n",
       "    </tr>\n",
       "    <tr>\n",
       "      <th>690</th>\n",
       "      <td>212</td>\n",
       "      <td>450</td>\n",
       "      <td>720</td>\n",
       "      <td>196</td>\n",
       "    </tr>\n",
       "    <tr>\n",
       "      <th>648</th>\n",
       "      <td>718</td>\n",
       "      <td>450</td>\n",
       "      <td>720</td>\n",
       "      <td>-15</td>\n",
       "    </tr>\n",
       "    <tr>\n",
       "      <th>813</th>\n",
       "      <td>312</td>\n",
       "      <td>420</td>\n",
       "      <td>890</td>\n",
       "      <td>-88</td>\n",
       "    </tr>\n",
       "    <tr>\n",
       "      <th>...</th>\n",
       "      <td>...</td>\n",
       "      <td>...</td>\n",
       "      <td>...</td>\n",
       "      <td>...</td>\n",
       "    </tr>\n",
       "    <tr>\n",
       "      <th>675</th>\n",
       "      <td>212</td>\n",
       "      <td>-210</td>\n",
       "      <td>60</td>\n",
       "      <td>-14</td>\n",
       "    </tr>\n",
       "    <tr>\n",
       "      <th>944</th>\n",
       "      <td>702</td>\n",
       "      <td>-280</td>\n",
       "      <td>0</td>\n",
       "      <td>-60</td>\n",
       "    </tr>\n",
       "    <tr>\n",
       "      <th>1032</th>\n",
       "      <td>775</td>\n",
       "      <td>-280</td>\n",
       "      <td>0</td>\n",
       "      <td>-225</td>\n",
       "    </tr>\n",
       "    <tr>\n",
       "      <th>971</th>\n",
       "      <td>775</td>\n",
       "      <td>-320</td>\n",
       "      <td>0</td>\n",
       "      <td>-88</td>\n",
       "    </tr>\n",
       "    <tr>\n",
       "      <th>1059</th>\n",
       "      <td>775</td>\n",
       "      <td>-320</td>\n",
       "      <td>0</td>\n",
       "      <td>-285</td>\n",
       "    </tr>\n",
       "  </tbody>\n",
       "</table>\n",
       "<p>1062 rows × 4 columns</p>\n",
       "</div>"
      ],
      "text/plain": [
       "      Area Code  Target_profit  Target_sales  \\\n",
       "977         818            470           960   \n",
       "889         626            470           960   \n",
       "690         212            450           720   \n",
       "648         718            450           720   \n",
       "813         312            420           890   \n",
       "...         ...            ...           ...   \n",
       "675         212           -210            60   \n",
       "944         702           -280             0   \n",
       "1032        775           -280             0   \n",
       "971         775           -320             0   \n",
       "1059        775           -320             0   \n",
       "\n",
       "      DifferenceBetweenActualandTargetProfit  \n",
       "977                                     -103  \n",
       "889                                     -223  \n",
       "690                                      196  \n",
       "648                                      -15  \n",
       "813                                      -88  \n",
       "...                                      ...  \n",
       "675                                      -14  \n",
       "944                                      -60  \n",
       "1032                                    -225  \n",
       "971                                      -88  \n",
       "1059                                    -285  \n",
       "\n",
       "[1062 rows x 4 columns]"
      ]
     },
     "metadata": {},
     "output_type": "display_data"
    }
   ],
   "source": [
    "# filtrando as lojas por código, e a meta de lucro e vendas de cada loja de forma decrescente e a diferença entre o esperado\n",
    "df_coffee.sort_values(by=\"Target_profit\", ascending=False, inplace=True)\n",
    "lucro_e_vendas = df_coffee[[\"Area Code\", \"Target_profit\", \"Target_sales\", \"DifferenceBetweenActualandTargetProfit\"]]\n",
    "display(lucro_e_vendas)"
   ]
  },
  {
   "cell_type": "code",
   "execution_count": 37,
   "metadata": {},
   "outputs": [
    {
     "name": "stderr",
     "output_type": "stream",
     "text": [
      "C:\\Users\\tiago\\AppData\\Local\\Temp\\ipykernel_11744\\813811845.py:3: SettingWithCopyWarning:\n",
      "\n",
      "\n",
      "A value is trying to be set on a copy of a slice from a DataFrame\n",
      "\n",
      "See the caveats in the documentation: https://pandas.pydata.org/pandas-docs/stable/user_guide/indexing.html#returning-a-view-versus-a-copy\n",
      "\n"
     ]
    },
    {
     "data": {
      "text/html": [
       "<div>\n",
       "<style scoped>\n",
       "    .dataframe tbody tr th:only-of-type {\n",
       "        vertical-align: middle;\n",
       "    }\n",
       "\n",
       "    .dataframe tbody tr th {\n",
       "        vertical-align: top;\n",
       "    }\n",
       "\n",
       "    .dataframe thead th {\n",
       "        text-align: right;\n",
       "    }\n",
       "</style>\n",
       "<table border=\"1\" class=\"dataframe\">\n",
       "  <thead>\n",
       "    <tr style=\"text-align: right;\">\n",
       "      <th></th>\n",
       "      <th>Area Code</th>\n",
       "      <th>Target_profit</th>\n",
       "      <th>Target_sales</th>\n",
       "      <th>DifferenceBetweenActualandTargetProfit</th>\n",
       "    </tr>\n",
       "  </thead>\n",
       "  <tbody>\n",
       "    <tr>\n",
       "      <th>51</th>\n",
       "      <td>970</td>\n",
       "      <td>0</td>\n",
       "      <td>100</td>\n",
       "      <td>-6</td>\n",
       "    </tr>\n",
       "    <tr>\n",
       "      <th>494</th>\n",
       "      <td>603</td>\n",
       "      <td>0</td>\n",
       "      <td>40</td>\n",
       "      <td>-24</td>\n",
       "    </tr>\n",
       "    <tr>\n",
       "      <th>451</th>\n",
       "      <td>505</td>\n",
       "      <td>0</td>\n",
       "      <td>60</td>\n",
       "      <td>12</td>\n",
       "    </tr>\n",
       "    <tr>\n",
       "      <th>751</th>\n",
       "      <td>417</td>\n",
       "      <td>0</td>\n",
       "      <td>30</td>\n",
       "      <td>-11</td>\n",
       "    </tr>\n",
       "    <tr>\n",
       "      <th>449</th>\n",
       "      <td>801</td>\n",
       "      <td>0</td>\n",
       "      <td>50</td>\n",
       "      <td>-3</td>\n",
       "    </tr>\n",
       "    <tr>\n",
       "      <th>482</th>\n",
       "      <td>603</td>\n",
       "      <td>0</td>\n",
       "      <td>50</td>\n",
       "      <td>-6</td>\n",
       "    </tr>\n",
       "    <tr>\n",
       "      <th>455</th>\n",
       "      <td>603</td>\n",
       "      <td>0</td>\n",
       "      <td>40</td>\n",
       "      <td>-16</td>\n",
       "    </tr>\n",
       "    <tr>\n",
       "      <th>443</th>\n",
       "      <td>603</td>\n",
       "      <td>0</td>\n",
       "      <td>50</td>\n",
       "      <td>-4</td>\n",
       "    </tr>\n",
       "    <tr>\n",
       "      <th>488</th>\n",
       "      <td>435</td>\n",
       "      <td>0</td>\n",
       "      <td>50</td>\n",
       "      <td>-4</td>\n",
       "    </tr>\n",
       "    <tr>\n",
       "      <th>490</th>\n",
       "      <td>505</td>\n",
       "      <td>0</td>\n",
       "      <td>60</td>\n",
       "      <td>18</td>\n",
       "    </tr>\n",
       "    <tr>\n",
       "      <th>403</th>\n",
       "      <td>715</td>\n",
       "      <td>0</td>\n",
       "      <td>120</td>\n",
       "      <td>3</td>\n",
       "    </tr>\n",
       "    <tr>\n",
       "      <th>263</th>\n",
       "      <td>603</td>\n",
       "      <td>0</td>\n",
       "      <td>70</td>\n",
       "      <td>-3</td>\n",
       "    </tr>\n",
       "    <tr>\n",
       "      <th>973</th>\n",
       "      <td>435</td>\n",
       "      <td>0</td>\n",
       "      <td>30</td>\n",
       "      <td>-15</td>\n",
       "    </tr>\n",
       "    <tr>\n",
       "      <th>143</th>\n",
       "      <td>262</td>\n",
       "      <td>0</td>\n",
       "      <td>100</td>\n",
       "      <td>-4</td>\n",
       "    </tr>\n",
       "    <tr>\n",
       "      <th>205</th>\n",
       "      <td>262</td>\n",
       "      <td>0</td>\n",
       "      <td>90</td>\n",
       "      <td>0</td>\n",
       "    </tr>\n",
       "    <tr>\n",
       "      <th>218</th>\n",
       "      <td>505</td>\n",
       "      <td>0</td>\n",
       "      <td>80</td>\n",
       "      <td>-10</td>\n",
       "    </tr>\n",
       "    <tr>\n",
       "      <th>314</th>\n",
       "      <td>314</td>\n",
       "      <td>0</td>\n",
       "      <td>110</td>\n",
       "      <td>-13</td>\n",
       "    </tr>\n",
       "    <tr>\n",
       "      <th>155</th>\n",
       "      <td>715</td>\n",
       "      <td>0</td>\n",
       "      <td>90</td>\n",
       "      <td>0</td>\n",
       "    </tr>\n",
       "    <tr>\n",
       "      <th>170</th>\n",
       "      <td>573</td>\n",
       "      <td>0</td>\n",
       "      <td>90</td>\n",
       "      <td>-8</td>\n",
       "    </tr>\n",
       "    <tr>\n",
       "      <th>913</th>\n",
       "      <td>435</td>\n",
       "      <td>0</td>\n",
       "      <td>80</td>\n",
       "      <td>-27</td>\n",
       "    </tr>\n",
       "    <tr>\n",
       "      <th>123</th>\n",
       "      <td>719</td>\n",
       "      <td>0</td>\n",
       "      <td>100</td>\n",
       "      <td>-9</td>\n",
       "    </tr>\n",
       "    <tr>\n",
       "      <th>168</th>\n",
       "      <td>505</td>\n",
       "      <td>0</td>\n",
       "      <td>80</td>\n",
       "      <td>-7</td>\n",
       "    </tr>\n",
       "    <tr>\n",
       "      <th>220</th>\n",
       "      <td>314</td>\n",
       "      <td>0</td>\n",
       "      <td>90</td>\n",
       "      <td>-12</td>\n",
       "    </tr>\n",
       "    <tr>\n",
       "      <th>242</th>\n",
       "      <td>435</td>\n",
       "      <td>0</td>\n",
       "      <td>80</td>\n",
       "      <td>-6</td>\n",
       "    </tr>\n",
       "    <tr>\n",
       "      <th>192</th>\n",
       "      <td>435</td>\n",
       "      <td>0</td>\n",
       "      <td>80</td>\n",
       "      <td>-4</td>\n",
       "    </tr>\n",
       "    <tr>\n",
       "      <th>361</th>\n",
       "      <td>715</td>\n",
       "      <td>0</td>\n",
       "      <td>120</td>\n",
       "      <td>2</td>\n",
       "    </tr>\n",
       "    <tr>\n",
       "      <th>271</th>\n",
       "      <td>314</td>\n",
       "      <td>0</td>\n",
       "      <td>60</td>\n",
       "      <td>-4</td>\n",
       "    </tr>\n",
       "    <tr>\n",
       "      <th>832</th>\n",
       "      <td>573</td>\n",
       "      <td>0</td>\n",
       "      <td>30</td>\n",
       "      <td>-16</td>\n",
       "    </tr>\n",
       "    <tr>\n",
       "      <th>62</th>\n",
       "      <td>985</td>\n",
       "      <td>0</td>\n",
       "      <td>100</td>\n",
       "      <td>-3</td>\n",
       "    </tr>\n",
       "    <tr>\n",
       "      <th>71</th>\n",
       "      <td>920</td>\n",
       "      <td>0</td>\n",
       "      <td>100</td>\n",
       "      <td>-3</td>\n",
       "    </tr>\n",
       "    <tr>\n",
       "      <th>26</th>\n",
       "      <td>774</td>\n",
       "      <td>0</td>\n",
       "      <td>110</td>\n",
       "      <td>-8</td>\n",
       "    </tr>\n",
       "    <tr>\n",
       "      <th>134</th>\n",
       "      <td>225</td>\n",
       "      <td>0</td>\n",
       "      <td>100</td>\n",
       "      <td>-4</td>\n",
       "    </tr>\n",
       "    <tr>\n",
       "      <th>48</th>\n",
       "      <td>206</td>\n",
       "      <td>0</td>\n",
       "      <td>100</td>\n",
       "      <td>1</td>\n",
       "    </tr>\n",
       "    <tr>\n",
       "      <th>1001</th>\n",
       "      <td>435</td>\n",
       "      <td>0</td>\n",
       "      <td>80</td>\n",
       "      <td>-40</td>\n",
       "    </tr>\n",
       "    <tr>\n",
       "      <th>318</th>\n",
       "      <td>314</td>\n",
       "      <td>0</td>\n",
       "      <td>60</td>\n",
       "      <td>-6</td>\n",
       "    </tr>\n",
       "    <tr>\n",
       "      <th>120</th>\n",
       "      <td>509</td>\n",
       "      <td>0</td>\n",
       "      <td>100</td>\n",
       "      <td>1</td>\n",
       "    </tr>\n",
       "    <tr>\n",
       "      <th>270</th>\n",
       "      <td>636</td>\n",
       "      <td>0</td>\n",
       "      <td>60</td>\n",
       "      <td>-3</td>\n",
       "    </tr>\n",
       "    <tr>\n",
       "      <th>98</th>\n",
       "      <td>339</td>\n",
       "      <td>0</td>\n",
       "      <td>110</td>\n",
       "      <td>-12</td>\n",
       "    </tr>\n",
       "    <tr>\n",
       "      <th>286</th>\n",
       "      <td>636</td>\n",
       "      <td>0</td>\n",
       "      <td>70</td>\n",
       "      <td>2</td>\n",
       "    </tr>\n",
       "    <tr>\n",
       "      <th>310</th>\n",
       "      <td>603</td>\n",
       "      <td>0</td>\n",
       "      <td>70</td>\n",
       "      <td>-4</td>\n",
       "    </tr>\n",
       "    <tr>\n",
       "      <th>1061</th>\n",
       "      <td>435</td>\n",
       "      <td>0</td>\n",
       "      <td>30</td>\n",
       "      <td>-22</td>\n",
       "    </tr>\n",
       "    <tr>\n",
       "      <th>137</th>\n",
       "      <td>314</td>\n",
       "      <td>0</td>\n",
       "      <td>100</td>\n",
       "      <td>-7</td>\n",
       "    </tr>\n",
       "    <tr>\n",
       "      <th>333</th>\n",
       "      <td>660</td>\n",
       "      <td>0</td>\n",
       "      <td>70</td>\n",
       "      <td>3</td>\n",
       "    </tr>\n",
       "    <tr>\n",
       "      <th>267</th>\n",
       "      <td>573</td>\n",
       "      <td>0</td>\n",
       "      <td>110</td>\n",
       "      <td>-9</td>\n",
       "    </tr>\n",
       "    <tr>\n",
       "      <th>268</th>\n",
       "      <td>801</td>\n",
       "      <td>0</td>\n",
       "      <td>110</td>\n",
       "      <td>-8</td>\n",
       "    </tr>\n",
       "    <tr>\n",
       "      <th>315</th>\n",
       "      <td>435</td>\n",
       "      <td>0</td>\n",
       "      <td>110</td>\n",
       "      <td>-12</td>\n",
       "    </tr>\n",
       "    <tr>\n",
       "      <th>317</th>\n",
       "      <td>573</td>\n",
       "      <td>0</td>\n",
       "      <td>60</td>\n",
       "      <td>-4</td>\n",
       "    </tr>\n",
       "    <tr>\n",
       "      <th>65</th>\n",
       "      <td>417</td>\n",
       "      <td>0</td>\n",
       "      <td>100</td>\n",
       "      <td>-5</td>\n",
       "    </tr>\n",
       "    <tr>\n",
       "      <th>885</th>\n",
       "      <td>816</td>\n",
       "      <td>-10</td>\n",
       "      <td>30</td>\n",
       "      <td>-14</td>\n",
       "    </tr>\n",
       "    <tr>\n",
       "      <th>594</th>\n",
       "      <td>505</td>\n",
       "      <td>-10</td>\n",
       "      <td>30</td>\n",
       "      <td>-5</td>\n",
       "    </tr>\n",
       "    <tr>\n",
       "      <th>441</th>\n",
       "      <td>505</td>\n",
       "      <td>-10</td>\n",
       "      <td>50</td>\n",
       "      <td>6</td>\n",
       "    </tr>\n",
       "    <tr>\n",
       "      <th>177</th>\n",
       "      <td>339</td>\n",
       "      <td>-10</td>\n",
       "      <td>90</td>\n",
       "      <td>-10</td>\n",
       "    </tr>\n",
       "    <tr>\n",
       "      <th>627</th>\n",
       "      <td>505</td>\n",
       "      <td>-10</td>\n",
       "      <td>30</td>\n",
       "      <td>-12</td>\n",
       "    </tr>\n",
       "    <tr>\n",
       "      <th>480</th>\n",
       "      <td>505</td>\n",
       "      <td>-10</td>\n",
       "      <td>50</td>\n",
       "      <td>4</td>\n",
       "    </tr>\n",
       "    <tr>\n",
       "      <th>804</th>\n",
       "      <td>573</td>\n",
       "      <td>-10</td>\n",
       "      <td>30</td>\n",
       "      <td>-6</td>\n",
       "    </tr>\n",
       "    <tr>\n",
       "      <th>227</th>\n",
       "      <td>978</td>\n",
       "      <td>-10</td>\n",
       "      <td>90</td>\n",
       "      <td>-20</td>\n",
       "    </tr>\n",
       "    <tr>\n",
       "      <th>243</th>\n",
       "      <td>509</td>\n",
       "      <td>-10</td>\n",
       "      <td>90</td>\n",
       "      <td>6</td>\n",
       "    </tr>\n",
       "    <tr>\n",
       "      <th>273</th>\n",
       "      <td>435</td>\n",
       "      <td>-10</td>\n",
       "      <td>70</td>\n",
       "      <td>3</td>\n",
       "    </tr>\n",
       "    <tr>\n",
       "      <th>193</th>\n",
       "      <td>360</td>\n",
       "      <td>-10</td>\n",
       "      <td>90</td>\n",
       "      <td>7</td>\n",
       "    </tr>\n",
       "    <tr>\n",
       "      <th>320</th>\n",
       "      <td>435</td>\n",
       "      <td>-10</td>\n",
       "      <td>70</td>\n",
       "      <td>0</td>\n",
       "    </tr>\n",
       "    <tr>\n",
       "      <th>1009</th>\n",
       "      <td>916</td>\n",
       "      <td>-50</td>\n",
       "      <td>130</td>\n",
       "      <td>-33</td>\n",
       "    </tr>\n",
       "    <tr>\n",
       "      <th>921</th>\n",
       "      <td>619</td>\n",
       "      <td>-50</td>\n",
       "      <td>130</td>\n",
       "      <td>-6</td>\n",
       "    </tr>\n",
       "    <tr>\n",
       "      <th>888</th>\n",
       "      <td>818</td>\n",
       "      <td>-60</td>\n",
       "      <td>150</td>\n",
       "      <td>-14</td>\n",
       "    </tr>\n",
       "    <tr>\n",
       "      <th>976</th>\n",
       "      <td>909</td>\n",
       "      <td>-60</td>\n",
       "      <td>150</td>\n",
       "      <td>-50</td>\n",
       "    </tr>\n",
       "    <tr>\n",
       "      <th>948</th>\n",
       "      <td>951</td>\n",
       "      <td>-90</td>\n",
       "      <td>120</td>\n",
       "      <td>2</td>\n",
       "    </tr>\n",
       "    <tr>\n",
       "      <th>1036</th>\n",
       "      <td>209</td>\n",
       "      <td>-90</td>\n",
       "      <td>120</td>\n",
       "      <td>-41</td>\n",
       "    </tr>\n",
       "    <tr>\n",
       "      <th>974</th>\n",
       "      <td>650</td>\n",
       "      <td>-100</td>\n",
       "      <td>190</td>\n",
       "      <td>-74</td>\n",
       "    </tr>\n",
       "    <tr>\n",
       "      <th>693</th>\n",
       "      <td>631</td>\n",
       "      <td>-100</td>\n",
       "      <td>80</td>\n",
       "      <td>-152</td>\n",
       "    </tr>\n",
       "    <tr>\n",
       "      <th>886</th>\n",
       "      <td>951</td>\n",
       "      <td>-100</td>\n",
       "      <td>190</td>\n",
       "      <td>-17</td>\n",
       "    </tr>\n",
       "    <tr>\n",
       "      <th>651</th>\n",
       "      <td>315</td>\n",
       "      <td>-100</td>\n",
       "      <td>80</td>\n",
       "      <td>-70</td>\n",
       "    </tr>\n",
       "    <tr>\n",
       "      <th>666</th>\n",
       "      <td>914</td>\n",
       "      <td>-120</td>\n",
       "      <td>110</td>\n",
       "      <td>-36</td>\n",
       "    </tr>\n",
       "    <tr>\n",
       "      <th>708</th>\n",
       "      <td>518</td>\n",
       "      <td>-120</td>\n",
       "      <td>110</td>\n",
       "      <td>-112</td>\n",
       "    </tr>\n",
       "    <tr>\n",
       "      <th>1007</th>\n",
       "      <td>626</td>\n",
       "      <td>-130</td>\n",
       "      <td>170</td>\n",
       "      <td>-58</td>\n",
       "    </tr>\n",
       "    <tr>\n",
       "      <th>919</th>\n",
       "      <td>909</td>\n",
       "      <td>-130</td>\n",
       "      <td>170</td>\n",
       "      <td>3</td>\n",
       "    </tr>\n",
       "    <tr>\n",
       "      <th>721</th>\n",
       "      <td>716</td>\n",
       "      <td>-150</td>\n",
       "      <td>100</td>\n",
       "      <td>-130</td>\n",
       "    </tr>\n",
       "    <tr>\n",
       "      <th>946</th>\n",
       "      <td>714</td>\n",
       "      <td>-150</td>\n",
       "      <td>220</td>\n",
       "      <td>1</td>\n",
       "    </tr>\n",
       "    <tr>\n",
       "      <th>679</th>\n",
       "      <td>716</td>\n",
       "      <td>-150</td>\n",
       "      <td>100</td>\n",
       "      <td>-39</td>\n",
       "    </tr>\n",
       "    <tr>\n",
       "      <th>1034</th>\n",
       "      <td>951</td>\n",
       "      <td>-150</td>\n",
       "      <td>220</td>\n",
       "      <td>-71</td>\n",
       "    </tr>\n",
       "    <tr>\n",
       "      <th>917</th>\n",
       "      <td>702</td>\n",
       "      <td>-170</td>\n",
       "      <td>0</td>\n",
       "      <td>-193</td>\n",
       "    </tr>\n",
       "    <tr>\n",
       "      <th>1005</th>\n",
       "      <td>702</td>\n",
       "      <td>-170</td>\n",
       "      <td>0</td>\n",
       "      <td>-369</td>\n",
       "    </tr>\n",
       "    <tr>\n",
       "      <th>646</th>\n",
       "      <td>845</td>\n",
       "      <td>-170</td>\n",
       "      <td>50</td>\n",
       "      <td>-32</td>\n",
       "    </tr>\n",
       "    <tr>\n",
       "      <th>688</th>\n",
       "      <td>914</td>\n",
       "      <td>-170</td>\n",
       "      <td>50</td>\n",
       "      <td>-130</td>\n",
       "    </tr>\n",
       "    <tr>\n",
       "      <th>703</th>\n",
       "      <td>914</td>\n",
       "      <td>-190</td>\n",
       "      <td>50</td>\n",
       "      <td>-110</td>\n",
       "    </tr>\n",
       "    <tr>\n",
       "      <th>661</th>\n",
       "      <td>347</td>\n",
       "      <td>-190</td>\n",
       "      <td>50</td>\n",
       "      <td>-12</td>\n",
       "    </tr>\n",
       "    <tr>\n",
       "      <th>717</th>\n",
       "      <td>845</td>\n",
       "      <td>-210</td>\n",
       "      <td>60</td>\n",
       "      <td>-122</td>\n",
       "    </tr>\n",
       "    <tr>\n",
       "      <th>675</th>\n",
       "      <td>212</td>\n",
       "      <td>-210</td>\n",
       "      <td>60</td>\n",
       "      <td>-14</td>\n",
       "    </tr>\n",
       "    <tr>\n",
       "      <th>944</th>\n",
       "      <td>702</td>\n",
       "      <td>-280</td>\n",
       "      <td>0</td>\n",
       "      <td>-60</td>\n",
       "    </tr>\n",
       "    <tr>\n",
       "      <th>1032</th>\n",
       "      <td>775</td>\n",
       "      <td>-280</td>\n",
       "      <td>0</td>\n",
       "      <td>-225</td>\n",
       "    </tr>\n",
       "    <tr>\n",
       "      <th>971</th>\n",
       "      <td>775</td>\n",
       "      <td>-320</td>\n",
       "      <td>0</td>\n",
       "      <td>-88</td>\n",
       "    </tr>\n",
       "    <tr>\n",
       "      <th>1059</th>\n",
       "      <td>775</td>\n",
       "      <td>-320</td>\n",
       "      <td>0</td>\n",
       "      <td>-285</td>\n",
       "    </tr>\n",
       "  </tbody>\n",
       "</table>\n",
       "</div>"
      ],
      "text/plain": [
       "      Area Code  Target_profit  Target_sales  \\\n",
       "51          970              0           100   \n",
       "494         603              0            40   \n",
       "451         505              0            60   \n",
       "751         417              0            30   \n",
       "449         801              0            50   \n",
       "482         603              0            50   \n",
       "455         603              0            40   \n",
       "443         603              0            50   \n",
       "488         435              0            50   \n",
       "490         505              0            60   \n",
       "403         715              0           120   \n",
       "263         603              0            70   \n",
       "973         435              0            30   \n",
       "143         262              0           100   \n",
       "205         262              0            90   \n",
       "218         505              0            80   \n",
       "314         314              0           110   \n",
       "155         715              0            90   \n",
       "170         573              0            90   \n",
       "913         435              0            80   \n",
       "123         719              0           100   \n",
       "168         505              0            80   \n",
       "220         314              0            90   \n",
       "242         435              0            80   \n",
       "192         435              0            80   \n",
       "361         715              0           120   \n",
       "271         314              0            60   \n",
       "832         573              0            30   \n",
       "62          985              0           100   \n",
       "71          920              0           100   \n",
       "26          774              0           110   \n",
       "134         225              0           100   \n",
       "48          206              0           100   \n",
       "1001        435              0            80   \n",
       "318         314              0            60   \n",
       "120         509              0           100   \n",
       "270         636              0            60   \n",
       "98          339              0           110   \n",
       "286         636              0            70   \n",
       "310         603              0            70   \n",
       "1061        435              0            30   \n",
       "137         314              0           100   \n",
       "333         660              0            70   \n",
       "267         573              0           110   \n",
       "268         801              0           110   \n",
       "315         435              0           110   \n",
       "317         573              0            60   \n",
       "65          417              0           100   \n",
       "885         816            -10            30   \n",
       "594         505            -10            30   \n",
       "441         505            -10            50   \n",
       "177         339            -10            90   \n",
       "627         505            -10            30   \n",
       "480         505            -10            50   \n",
       "804         573            -10            30   \n",
       "227         978            -10            90   \n",
       "243         509            -10            90   \n",
       "273         435            -10            70   \n",
       "193         360            -10            90   \n",
       "320         435            -10            70   \n",
       "1009        916            -50           130   \n",
       "921         619            -50           130   \n",
       "888         818            -60           150   \n",
       "976         909            -60           150   \n",
       "948         951            -90           120   \n",
       "1036        209            -90           120   \n",
       "974         650           -100           190   \n",
       "693         631           -100            80   \n",
       "886         951           -100           190   \n",
       "651         315           -100            80   \n",
       "666         914           -120           110   \n",
       "708         518           -120           110   \n",
       "1007        626           -130           170   \n",
       "919         909           -130           170   \n",
       "721         716           -150           100   \n",
       "946         714           -150           220   \n",
       "679         716           -150           100   \n",
       "1034        951           -150           220   \n",
       "917         702           -170             0   \n",
       "1005        702           -170             0   \n",
       "646         845           -170            50   \n",
       "688         914           -170            50   \n",
       "703         914           -190            50   \n",
       "661         347           -190            50   \n",
       "717         845           -210            60   \n",
       "675         212           -210            60   \n",
       "944         702           -280             0   \n",
       "1032        775           -280             0   \n",
       "971         775           -320             0   \n",
       "1059        775           -320             0   \n",
       "\n",
       "      DifferenceBetweenActualandTargetProfit  \n",
       "51                                        -6  \n",
       "494                                      -24  \n",
       "451                                       12  \n",
       "751                                      -11  \n",
       "449                                       -3  \n",
       "482                                       -6  \n",
       "455                                      -16  \n",
       "443                                       -4  \n",
       "488                                       -4  \n",
       "490                                       18  \n",
       "403                                        3  \n",
       "263                                       -3  \n",
       "973                                      -15  \n",
       "143                                       -4  \n",
       "205                                        0  \n",
       "218                                      -10  \n",
       "314                                      -13  \n",
       "155                                        0  \n",
       "170                                       -8  \n",
       "913                                      -27  \n",
       "123                                       -9  \n",
       "168                                       -7  \n",
       "220                                      -12  \n",
       "242                                       -6  \n",
       "192                                       -4  \n",
       "361                                        2  \n",
       "271                                       -4  \n",
       "832                                      -16  \n",
       "62                                        -3  \n",
       "71                                        -3  \n",
       "26                                        -8  \n",
       "134                                       -4  \n",
       "48                                         1  \n",
       "1001                                     -40  \n",
       "318                                       -6  \n",
       "120                                        1  \n",
       "270                                       -3  \n",
       "98                                       -12  \n",
       "286                                        2  \n",
       "310                                       -4  \n",
       "1061                                     -22  \n",
       "137                                       -7  \n",
       "333                                        3  \n",
       "267                                       -9  \n",
       "268                                       -8  \n",
       "315                                      -12  \n",
       "317                                       -4  \n",
       "65                                        -5  \n",
       "885                                      -14  \n",
       "594                                       -5  \n",
       "441                                        6  \n",
       "177                                      -10  \n",
       "627                                      -12  \n",
       "480                                        4  \n",
       "804                                       -6  \n",
       "227                                      -20  \n",
       "243                                        6  \n",
       "273                                        3  \n",
       "193                                        7  \n",
       "320                                        0  \n",
       "1009                                     -33  \n",
       "921                                       -6  \n",
       "888                                      -14  \n",
       "976                                      -50  \n",
       "948                                        2  \n",
       "1036                                     -41  \n",
       "974                                      -74  \n",
       "693                                     -152  \n",
       "886                                      -17  \n",
       "651                                      -70  \n",
       "666                                      -36  \n",
       "708                                     -112  \n",
       "1007                                     -58  \n",
       "919                                        3  \n",
       "721                                     -130  \n",
       "946                                        1  \n",
       "679                                      -39  \n",
       "1034                                     -71  \n",
       "917                                     -193  \n",
       "1005                                    -369  \n",
       "646                                      -32  \n",
       "688                                     -130  \n",
       "703                                     -110  \n",
       "661                                      -12  \n",
       "717                                     -122  \n",
       "675                                      -14  \n",
       "944                                      -60  \n",
       "1032                                    -225  \n",
       "971                                      -88  \n",
       "1059                                    -285  "
      ]
     },
     "metadata": {},
     "output_type": "display_data"
    }
   ],
   "source": [
    "# Separei as lojas em que a meta de lucro são 0 ou negativas para identificar um padrão para estes cenários\n",
    "negative_profit = lucro_e_vendas[lucro_e_vendas[\"Target_profit\"] <= 0]\n",
    "negative_profit.sort_values(by=\"Target_profit\", ascending=False, inplace=True)\n",
    "display(negative_profit)"
   ]
  },
  {
   "cell_type": "code",
   "execution_count": 34,
   "metadata": {},
   "outputs": [
    {
     "name": "stdout",
     "output_type": "stream",
     "text": [
      "      Area Code  Target_profit  Target_sales\n",
      "134         225              0           100\n",
      "242         435              0            80\n",
      "443         603              0            50\n",
      "490         505              0            60\n",
      "488         435              0            50\n",
      "451         505              0            60\n",
      "455         603              0            40\n",
      "482         603              0            50\n",
      "449         801              0            50\n",
      "751         417              0            30\n",
      "494         603              0            40\n",
      "263         603              0            70\n",
      "143         262              0           100\n",
      "205         262              0            90\n",
      "218         505              0            80\n",
      "314         314              0           110\n",
      "155         715              0            90\n",
      "170         573              0            90\n",
      "913         435              0            80\n",
      "192         435              0            80\n",
      "1001        435              0            80\n",
      "168         505              0            80\n",
      "220         314              0            90\n",
      "403         715              0           120\n",
      "973         435              0            30\n",
      "361         715              0           120\n",
      "286         636              0            70\n",
      "832         573              0            30\n",
      "48          206              0           100\n",
      "51          970              0           100\n",
      "26          774              0           110\n",
      "71          920              0           100\n",
      "62          985              0           100\n",
      "123         719              0           100\n",
      "98          339              0           110\n",
      "120         509              0           100\n",
      "271         314              0            60\n",
      "65          417              0           100\n",
      "310         603              0            70\n",
      "1061        435              0            30\n",
      "137         314              0           100\n",
      "333         660              0            70\n",
      "267         573              0           110\n",
      "268         801              0           110\n",
      "270         636              0            60\n",
      "315         435              0           110\n",
      "317         573              0            60\n",
      "318         314              0            60\n",
      "177         339            -10            90\n",
      "627         505            -10            30\n",
      "441         505            -10            50\n",
      "594         505            -10            30\n",
      "480         505            -10            50\n",
      "885         816            -10            30\n",
      "243         509            -10            90\n",
      "273         435            -10            70\n",
      "320         435            -10            70\n",
      "804         573            -10            30\n",
      "193         360            -10            90\n",
      "227         978            -10            90\n",
      "1009        916            -50           130\n",
      "921         619            -50           130\n",
      "888         818            -60           150\n",
      "976         909            -60           150\n",
      "948         951            -90           120\n",
      "1036        209            -90           120\n",
      "974         650           -100           190\n",
      "693         631           -100            80\n",
      "886         951           -100           190\n",
      "651         315           -100            80\n",
      "666         914           -120           110\n",
      "708         518           -120           110\n",
      "1007        626           -130           170\n",
      "919         909           -130           170\n",
      "721         716           -150           100\n",
      "946         714           -150           220\n",
      "679         716           -150           100\n",
      "1034        951           -150           220\n",
      "917         702           -170             0\n",
      "1005        702           -170             0\n",
      "646         845           -170            50\n",
      "688         914           -170            50\n",
      "703         914           -190            50\n",
      "661         347           -190            50\n",
      "717         845           -210            60\n",
      "675         212           -210            60\n",
      "944         702           -280             0\n",
      "1032        775           -280             0\n",
      "971         775           -320             0\n",
      "1059        775           -320             0\n"
     ]
    }
   ],
   "source": [
    "# Defini o número máximo de linhas a serem exibidas\n",
    "pd.set_option('display.max_rows', 100)\n",
    "print(negative_profit)"
   ]
  },
  {
   "cell_type": "code",
   "execution_count": 26,
   "metadata": {},
   "outputs": [
    {
     "data": {
      "application/vnd.plotly.v1+json": {
       "config": {
        "plotlyServerURL": "https://plot.ly"
       },
       "data": [
        {
         "alignmentgroup": "True",
         "hovertemplate": "Area Code=%{x}<br>Target_profit=%{y}<extra></extra>",
         "legendgroup": "",
         "marker": {
          "color": "#636efa",
          "pattern": {
           "shape": ""
          }
         },
         "name": "",
         "offsetgroup": "",
         "orientation": "v",
         "showlegend": false,
         "textposition": "auto",
         "type": "bar",
         "x": [
          603,
          339,
          970,
          435,
          206,
          920,
          774,
          225,
          985,
          719,
          314,
          509,
          603,
          435,
          314,
          660,
          573,
          801,
          636,
          314,
          417,
          435,
          573,
          417,
          636,
          573,
          505,
          715,
          801,
          603,
          603,
          505,
          435,
          505,
          435,
          603,
          262,
          715,
          314,
          715,
          573,
          435,
          435,
          435,
          262,
          505,
          314,
          603,
          978,
          573,
          360,
          435,
          509,
          435,
          505,
          816,
          505,
          339,
          505,
          505,
          916,
          619,
          818,
          909,
          951,
          209,
          650,
          631,
          951,
          315,
          914,
          518,
          909,
          626,
          716,
          714,
          716,
          951,
          702,
          702,
          845,
          914,
          914,
          347,
          845,
          212,
          702,
          775,
          775,
          775
         ],
         "xaxis": "x",
         "y": [
          0,
          0,
          0,
          0,
          0,
          0,
          0,
          0,
          0,
          0,
          0,
          0,
          0,
          0,
          0,
          0,
          0,
          0,
          0,
          0,
          0,
          0,
          0,
          0,
          0,
          0,
          0,
          0,
          0,
          0,
          0,
          0,
          0,
          0,
          0,
          0,
          0,
          0,
          0,
          0,
          0,
          0,
          0,
          0,
          0,
          0,
          0,
          0,
          -10,
          -10,
          -10,
          -10,
          -10,
          -10,
          -10,
          -10,
          -10,
          -10,
          -10,
          -10,
          -50,
          -50,
          -60,
          -60,
          -90,
          -90,
          -100,
          -100,
          -100,
          -100,
          -120,
          -120,
          -130,
          -130,
          -150,
          -150,
          -150,
          -150,
          -170,
          -170,
          -170,
          -170,
          -190,
          -190,
          -210,
          -210,
          -280,
          -280,
          -320,
          -320
         ],
         "yaxis": "y"
        }
       ],
       "layout": {
        "barmode": "relative",
        "legend": {
         "tracegroupgap": 0
        },
        "margin": {
         "t": 60
        },
        "template": {
         "data": {
          "bar": [
           {
            "error_x": {
             "color": "#2a3f5f"
            },
            "error_y": {
             "color": "#2a3f5f"
            },
            "marker": {
             "line": {
              "color": "#E5ECF6",
              "width": 0.5
             },
             "pattern": {
              "fillmode": "overlay",
              "size": 10,
              "solidity": 0.2
             }
            },
            "type": "bar"
           }
          ],
          "barpolar": [
           {
            "marker": {
             "line": {
              "color": "#E5ECF6",
              "width": 0.5
             },
             "pattern": {
              "fillmode": "overlay",
              "size": 10,
              "solidity": 0.2
             }
            },
            "type": "barpolar"
           }
          ],
          "carpet": [
           {
            "aaxis": {
             "endlinecolor": "#2a3f5f",
             "gridcolor": "white",
             "linecolor": "white",
             "minorgridcolor": "white",
             "startlinecolor": "#2a3f5f"
            },
            "baxis": {
             "endlinecolor": "#2a3f5f",
             "gridcolor": "white",
             "linecolor": "white",
             "minorgridcolor": "white",
             "startlinecolor": "#2a3f5f"
            },
            "type": "carpet"
           }
          ],
          "choropleth": [
           {
            "colorbar": {
             "outlinewidth": 0,
             "ticks": ""
            },
            "type": "choropleth"
           }
          ],
          "contour": [
           {
            "colorbar": {
             "outlinewidth": 0,
             "ticks": ""
            },
            "colorscale": [
             [
              0,
              "#0d0887"
             ],
             [
              0.1111111111111111,
              "#46039f"
             ],
             [
              0.2222222222222222,
              "#7201a8"
             ],
             [
              0.3333333333333333,
              "#9c179e"
             ],
             [
              0.4444444444444444,
              "#bd3786"
             ],
             [
              0.5555555555555556,
              "#d8576b"
             ],
             [
              0.6666666666666666,
              "#ed7953"
             ],
             [
              0.7777777777777778,
              "#fb9f3a"
             ],
             [
              0.8888888888888888,
              "#fdca26"
             ],
             [
              1,
              "#f0f921"
             ]
            ],
            "type": "contour"
           }
          ],
          "contourcarpet": [
           {
            "colorbar": {
             "outlinewidth": 0,
             "ticks": ""
            },
            "type": "contourcarpet"
           }
          ],
          "heatmap": [
           {
            "colorbar": {
             "outlinewidth": 0,
             "ticks": ""
            },
            "colorscale": [
             [
              0,
              "#0d0887"
             ],
             [
              0.1111111111111111,
              "#46039f"
             ],
             [
              0.2222222222222222,
              "#7201a8"
             ],
             [
              0.3333333333333333,
              "#9c179e"
             ],
             [
              0.4444444444444444,
              "#bd3786"
             ],
             [
              0.5555555555555556,
              "#d8576b"
             ],
             [
              0.6666666666666666,
              "#ed7953"
             ],
             [
              0.7777777777777778,
              "#fb9f3a"
             ],
             [
              0.8888888888888888,
              "#fdca26"
             ],
             [
              1,
              "#f0f921"
             ]
            ],
            "type": "heatmap"
           }
          ],
          "heatmapgl": [
           {
            "colorbar": {
             "outlinewidth": 0,
             "ticks": ""
            },
            "colorscale": [
             [
              0,
              "#0d0887"
             ],
             [
              0.1111111111111111,
              "#46039f"
             ],
             [
              0.2222222222222222,
              "#7201a8"
             ],
             [
              0.3333333333333333,
              "#9c179e"
             ],
             [
              0.4444444444444444,
              "#bd3786"
             ],
             [
              0.5555555555555556,
              "#d8576b"
             ],
             [
              0.6666666666666666,
              "#ed7953"
             ],
             [
              0.7777777777777778,
              "#fb9f3a"
             ],
             [
              0.8888888888888888,
              "#fdca26"
             ],
             [
              1,
              "#f0f921"
             ]
            ],
            "type": "heatmapgl"
           }
          ],
          "histogram": [
           {
            "marker": {
             "pattern": {
              "fillmode": "overlay",
              "size": 10,
              "solidity": 0.2
             }
            },
            "type": "histogram"
           }
          ],
          "histogram2d": [
           {
            "colorbar": {
             "outlinewidth": 0,
             "ticks": ""
            },
            "colorscale": [
             [
              0,
              "#0d0887"
             ],
             [
              0.1111111111111111,
              "#46039f"
             ],
             [
              0.2222222222222222,
              "#7201a8"
             ],
             [
              0.3333333333333333,
              "#9c179e"
             ],
             [
              0.4444444444444444,
              "#bd3786"
             ],
             [
              0.5555555555555556,
              "#d8576b"
             ],
             [
              0.6666666666666666,
              "#ed7953"
             ],
             [
              0.7777777777777778,
              "#fb9f3a"
             ],
             [
              0.8888888888888888,
              "#fdca26"
             ],
             [
              1,
              "#f0f921"
             ]
            ],
            "type": "histogram2d"
           }
          ],
          "histogram2dcontour": [
           {
            "colorbar": {
             "outlinewidth": 0,
             "ticks": ""
            },
            "colorscale": [
             [
              0,
              "#0d0887"
             ],
             [
              0.1111111111111111,
              "#46039f"
             ],
             [
              0.2222222222222222,
              "#7201a8"
             ],
             [
              0.3333333333333333,
              "#9c179e"
             ],
             [
              0.4444444444444444,
              "#bd3786"
             ],
             [
              0.5555555555555556,
              "#d8576b"
             ],
             [
              0.6666666666666666,
              "#ed7953"
             ],
             [
              0.7777777777777778,
              "#fb9f3a"
             ],
             [
              0.8888888888888888,
              "#fdca26"
             ],
             [
              1,
              "#f0f921"
             ]
            ],
            "type": "histogram2dcontour"
           }
          ],
          "mesh3d": [
           {
            "colorbar": {
             "outlinewidth": 0,
             "ticks": ""
            },
            "type": "mesh3d"
           }
          ],
          "parcoords": [
           {
            "line": {
             "colorbar": {
              "outlinewidth": 0,
              "ticks": ""
             }
            },
            "type": "parcoords"
           }
          ],
          "pie": [
           {
            "automargin": true,
            "type": "pie"
           }
          ],
          "scatter": [
           {
            "fillpattern": {
             "fillmode": "overlay",
             "size": 10,
             "solidity": 0.2
            },
            "type": "scatter"
           }
          ],
          "scatter3d": [
           {
            "line": {
             "colorbar": {
              "outlinewidth": 0,
              "ticks": ""
             }
            },
            "marker": {
             "colorbar": {
              "outlinewidth": 0,
              "ticks": ""
             }
            },
            "type": "scatter3d"
           }
          ],
          "scattercarpet": [
           {
            "marker": {
             "colorbar": {
              "outlinewidth": 0,
              "ticks": ""
             }
            },
            "type": "scattercarpet"
           }
          ],
          "scattergeo": [
           {
            "marker": {
             "colorbar": {
              "outlinewidth": 0,
              "ticks": ""
             }
            },
            "type": "scattergeo"
           }
          ],
          "scattergl": [
           {
            "marker": {
             "colorbar": {
              "outlinewidth": 0,
              "ticks": ""
             }
            },
            "type": "scattergl"
           }
          ],
          "scattermapbox": [
           {
            "marker": {
             "colorbar": {
              "outlinewidth": 0,
              "ticks": ""
             }
            },
            "type": "scattermapbox"
           }
          ],
          "scatterpolar": [
           {
            "marker": {
             "colorbar": {
              "outlinewidth": 0,
              "ticks": ""
             }
            },
            "type": "scatterpolar"
           }
          ],
          "scatterpolargl": [
           {
            "marker": {
             "colorbar": {
              "outlinewidth": 0,
              "ticks": ""
             }
            },
            "type": "scatterpolargl"
           }
          ],
          "scatterternary": [
           {
            "marker": {
             "colorbar": {
              "outlinewidth": 0,
              "ticks": ""
             }
            },
            "type": "scatterternary"
           }
          ],
          "surface": [
           {
            "colorbar": {
             "outlinewidth": 0,
             "ticks": ""
            },
            "colorscale": [
             [
              0,
              "#0d0887"
             ],
             [
              0.1111111111111111,
              "#46039f"
             ],
             [
              0.2222222222222222,
              "#7201a8"
             ],
             [
              0.3333333333333333,
              "#9c179e"
             ],
             [
              0.4444444444444444,
              "#bd3786"
             ],
             [
              0.5555555555555556,
              "#d8576b"
             ],
             [
              0.6666666666666666,
              "#ed7953"
             ],
             [
              0.7777777777777778,
              "#fb9f3a"
             ],
             [
              0.8888888888888888,
              "#fdca26"
             ],
             [
              1,
              "#f0f921"
             ]
            ],
            "type": "surface"
           }
          ],
          "table": [
           {
            "cells": {
             "fill": {
              "color": "#EBF0F8"
             },
             "line": {
              "color": "white"
             }
            },
            "header": {
             "fill": {
              "color": "#C8D4E3"
             },
             "line": {
              "color": "white"
             }
            },
            "type": "table"
           }
          ]
         },
         "layout": {
          "annotationdefaults": {
           "arrowcolor": "#2a3f5f",
           "arrowhead": 0,
           "arrowwidth": 1
          },
          "autotypenumbers": "strict",
          "coloraxis": {
           "colorbar": {
            "outlinewidth": 0,
            "ticks": ""
           }
          },
          "colorscale": {
           "diverging": [
            [
             0,
             "#8e0152"
            ],
            [
             0.1,
             "#c51b7d"
            ],
            [
             0.2,
             "#de77ae"
            ],
            [
             0.3,
             "#f1b6da"
            ],
            [
             0.4,
             "#fde0ef"
            ],
            [
             0.5,
             "#f7f7f7"
            ],
            [
             0.6,
             "#e6f5d0"
            ],
            [
             0.7,
             "#b8e186"
            ],
            [
             0.8,
             "#7fbc41"
            ],
            [
             0.9,
             "#4d9221"
            ],
            [
             1,
             "#276419"
            ]
           ],
           "sequential": [
            [
             0,
             "#0d0887"
            ],
            [
             0.1111111111111111,
             "#46039f"
            ],
            [
             0.2222222222222222,
             "#7201a8"
            ],
            [
             0.3333333333333333,
             "#9c179e"
            ],
            [
             0.4444444444444444,
             "#bd3786"
            ],
            [
             0.5555555555555556,
             "#d8576b"
            ],
            [
             0.6666666666666666,
             "#ed7953"
            ],
            [
             0.7777777777777778,
             "#fb9f3a"
            ],
            [
             0.8888888888888888,
             "#fdca26"
            ],
            [
             1,
             "#f0f921"
            ]
           ],
           "sequentialminus": [
            [
             0,
             "#0d0887"
            ],
            [
             0.1111111111111111,
             "#46039f"
            ],
            [
             0.2222222222222222,
             "#7201a8"
            ],
            [
             0.3333333333333333,
             "#9c179e"
            ],
            [
             0.4444444444444444,
             "#bd3786"
            ],
            [
             0.5555555555555556,
             "#d8576b"
            ],
            [
             0.6666666666666666,
             "#ed7953"
            ],
            [
             0.7777777777777778,
             "#fb9f3a"
            ],
            [
             0.8888888888888888,
             "#fdca26"
            ],
            [
             1,
             "#f0f921"
            ]
           ]
          },
          "colorway": [
           "#636efa",
           "#EF553B",
           "#00cc96",
           "#ab63fa",
           "#FFA15A",
           "#19d3f3",
           "#FF6692",
           "#B6E880",
           "#FF97FF",
           "#FECB52"
          ],
          "font": {
           "color": "#2a3f5f"
          },
          "geo": {
           "bgcolor": "white",
           "lakecolor": "white",
           "landcolor": "#E5ECF6",
           "showlakes": true,
           "showland": true,
           "subunitcolor": "white"
          },
          "hoverlabel": {
           "align": "left"
          },
          "hovermode": "closest",
          "mapbox": {
           "style": "light"
          },
          "paper_bgcolor": "white",
          "plot_bgcolor": "#E5ECF6",
          "polar": {
           "angularaxis": {
            "gridcolor": "white",
            "linecolor": "white",
            "ticks": ""
           },
           "bgcolor": "#E5ECF6",
           "radialaxis": {
            "gridcolor": "white",
            "linecolor": "white",
            "ticks": ""
           }
          },
          "scene": {
           "xaxis": {
            "backgroundcolor": "#E5ECF6",
            "gridcolor": "white",
            "gridwidth": 2,
            "linecolor": "white",
            "showbackground": true,
            "ticks": "",
            "zerolinecolor": "white"
           },
           "yaxis": {
            "backgroundcolor": "#E5ECF6",
            "gridcolor": "white",
            "gridwidth": 2,
            "linecolor": "white",
            "showbackground": true,
            "ticks": "",
            "zerolinecolor": "white"
           },
           "zaxis": {
            "backgroundcolor": "#E5ECF6",
            "gridcolor": "white",
            "gridwidth": 2,
            "linecolor": "white",
            "showbackground": true,
            "ticks": "",
            "zerolinecolor": "white"
           }
          },
          "shapedefaults": {
           "line": {
            "color": "#2a3f5f"
           }
          },
          "ternary": {
           "aaxis": {
            "gridcolor": "white",
            "linecolor": "white",
            "ticks": ""
           },
           "baxis": {
            "gridcolor": "white",
            "linecolor": "white",
            "ticks": ""
           },
           "bgcolor": "#E5ECF6",
           "caxis": {
            "gridcolor": "white",
            "linecolor": "white",
            "ticks": ""
           }
          },
          "title": {
           "x": 0.05
          },
          "xaxis": {
           "automargin": true,
           "gridcolor": "white",
           "linecolor": "white",
           "ticks": "",
           "title": {
            "standoff": 15
           },
           "zerolinecolor": "white",
           "zerolinewidth": 2
          },
          "yaxis": {
           "automargin": true,
           "gridcolor": "white",
           "linecolor": "white",
           "ticks": "",
           "title": {
            "standoff": 15
           },
           "zerolinecolor": "white",
           "zerolinewidth": 2
          }
         }
        },
        "xaxis": {
         "anchor": "y",
         "domain": [
          0,
          1
         ],
         "title": {
          "text": "Area Code"
         }
        },
        "yaxis": {
         "anchor": "x",
         "domain": [
          0,
          1
         ],
         "title": {
          "text": "Target_profit"
         }
        }
       }
      }
     },
     "metadata": {},
     "output_type": "display_data"
    }
   ],
   "source": [
    "import plotly.express as px\n",
    "\n",
    "# Criei o gráfico de barras usando o Plotly para visualizar as metas negativas das lojas\n",
    "fig = px.bar(negative_profit, x=\"Area Code\", y=\"Target_profit\")\n",
    "\n",
    "# Exiba o gráfico\n",
    "fig.show()"
   ]
  },
  {
   "cell_type": "code",
   "execution_count": 29,
   "metadata": {},
   "outputs": [
    {
     "data": {
      "application/vnd.plotly.v1+json": {
       "config": {
        "plotlyServerURL": "https://plot.ly"
       },
       "data": [
        {
         "alignmentgroup": "True",
         "hovertemplate": "Area Code=%{x}<br>Target_sales=%{y}<extra></extra>",
         "legendgroup": "",
         "marker": {
          "color": "#636efa",
          "pattern": {
           "shape": ""
          }
         },
         "name": "",
         "offsetgroup": "",
         "orientation": "v",
         "showlegend": false,
         "textposition": "auto",
         "type": "bar",
         "x": [
          603,
          339,
          970,
          435,
          206,
          920,
          774,
          225,
          985,
          719,
          314,
          509,
          603,
          435,
          314,
          660,
          573,
          801,
          636,
          314,
          417,
          435,
          573,
          417,
          636,
          573,
          505,
          715,
          801,
          603,
          603,
          505,
          435,
          505,
          435,
          603,
          262,
          715,
          314,
          715,
          573,
          435,
          435,
          435,
          262,
          505,
          314,
          603,
          978,
          573,
          360,
          435,
          509,
          435,
          505,
          816,
          505,
          339,
          505,
          505,
          916,
          619,
          818,
          909,
          951,
          209,
          650,
          631,
          951,
          315,
          914,
          518,
          909,
          626,
          716,
          714,
          716,
          951,
          702,
          702,
          845,
          914,
          914,
          347,
          845,
          212,
          702,
          775,
          775,
          775
         ],
         "xaxis": "x",
         "y": [
          50,
          110,
          100,
          80,
          100,
          100,
          110,
          100,
          100,
          100,
          60,
          100,
          70,
          30,
          100,
          70,
          110,
          110,
          60,
          60,
          30,
          110,
          60,
          100,
          70,
          30,
          80,
          120,
          50,
          50,
          40,
          60,
          50,
          60,
          80,
          70,
          90,
          120,
          110,
          90,
          90,
          80,
          80,
          30,
          100,
          80,
          90,
          40,
          90,
          30,
          90,
          70,
          90,
          70,
          30,
          30,
          30,
          90,
          50,
          50,
          130,
          130,
          150,
          150,
          120,
          120,
          190,
          80,
          190,
          80,
          110,
          110,
          170,
          170,
          100,
          220,
          100,
          220,
          0,
          0,
          50,
          50,
          50,
          50,
          60,
          60,
          0,
          0,
          0,
          0
         ],
         "yaxis": "y"
        }
       ],
       "layout": {
        "barmode": "relative",
        "legend": {
         "tracegroupgap": 0
        },
        "margin": {
         "t": 60
        },
        "template": {
         "data": {
          "bar": [
           {
            "error_x": {
             "color": "#2a3f5f"
            },
            "error_y": {
             "color": "#2a3f5f"
            },
            "marker": {
             "line": {
              "color": "#E5ECF6",
              "width": 0.5
             },
             "pattern": {
              "fillmode": "overlay",
              "size": 10,
              "solidity": 0.2
             }
            },
            "type": "bar"
           }
          ],
          "barpolar": [
           {
            "marker": {
             "line": {
              "color": "#E5ECF6",
              "width": 0.5
             },
             "pattern": {
              "fillmode": "overlay",
              "size": 10,
              "solidity": 0.2
             }
            },
            "type": "barpolar"
           }
          ],
          "carpet": [
           {
            "aaxis": {
             "endlinecolor": "#2a3f5f",
             "gridcolor": "white",
             "linecolor": "white",
             "minorgridcolor": "white",
             "startlinecolor": "#2a3f5f"
            },
            "baxis": {
             "endlinecolor": "#2a3f5f",
             "gridcolor": "white",
             "linecolor": "white",
             "minorgridcolor": "white",
             "startlinecolor": "#2a3f5f"
            },
            "type": "carpet"
           }
          ],
          "choropleth": [
           {
            "colorbar": {
             "outlinewidth": 0,
             "ticks": ""
            },
            "type": "choropleth"
           }
          ],
          "contour": [
           {
            "colorbar": {
             "outlinewidth": 0,
             "ticks": ""
            },
            "colorscale": [
             [
              0,
              "#0d0887"
             ],
             [
              0.1111111111111111,
              "#46039f"
             ],
             [
              0.2222222222222222,
              "#7201a8"
             ],
             [
              0.3333333333333333,
              "#9c179e"
             ],
             [
              0.4444444444444444,
              "#bd3786"
             ],
             [
              0.5555555555555556,
              "#d8576b"
             ],
             [
              0.6666666666666666,
              "#ed7953"
             ],
             [
              0.7777777777777778,
              "#fb9f3a"
             ],
             [
              0.8888888888888888,
              "#fdca26"
             ],
             [
              1,
              "#f0f921"
             ]
            ],
            "type": "contour"
           }
          ],
          "contourcarpet": [
           {
            "colorbar": {
             "outlinewidth": 0,
             "ticks": ""
            },
            "type": "contourcarpet"
           }
          ],
          "heatmap": [
           {
            "colorbar": {
             "outlinewidth": 0,
             "ticks": ""
            },
            "colorscale": [
             [
              0,
              "#0d0887"
             ],
             [
              0.1111111111111111,
              "#46039f"
             ],
             [
              0.2222222222222222,
              "#7201a8"
             ],
             [
              0.3333333333333333,
              "#9c179e"
             ],
             [
              0.4444444444444444,
              "#bd3786"
             ],
             [
              0.5555555555555556,
              "#d8576b"
             ],
             [
              0.6666666666666666,
              "#ed7953"
             ],
             [
              0.7777777777777778,
              "#fb9f3a"
             ],
             [
              0.8888888888888888,
              "#fdca26"
             ],
             [
              1,
              "#f0f921"
             ]
            ],
            "type": "heatmap"
           }
          ],
          "heatmapgl": [
           {
            "colorbar": {
             "outlinewidth": 0,
             "ticks": ""
            },
            "colorscale": [
             [
              0,
              "#0d0887"
             ],
             [
              0.1111111111111111,
              "#46039f"
             ],
             [
              0.2222222222222222,
              "#7201a8"
             ],
             [
              0.3333333333333333,
              "#9c179e"
             ],
             [
              0.4444444444444444,
              "#bd3786"
             ],
             [
              0.5555555555555556,
              "#d8576b"
             ],
             [
              0.6666666666666666,
              "#ed7953"
             ],
             [
              0.7777777777777778,
              "#fb9f3a"
             ],
             [
              0.8888888888888888,
              "#fdca26"
             ],
             [
              1,
              "#f0f921"
             ]
            ],
            "type": "heatmapgl"
           }
          ],
          "histogram": [
           {
            "marker": {
             "pattern": {
              "fillmode": "overlay",
              "size": 10,
              "solidity": 0.2
             }
            },
            "type": "histogram"
           }
          ],
          "histogram2d": [
           {
            "colorbar": {
             "outlinewidth": 0,
             "ticks": ""
            },
            "colorscale": [
             [
              0,
              "#0d0887"
             ],
             [
              0.1111111111111111,
              "#46039f"
             ],
             [
              0.2222222222222222,
              "#7201a8"
             ],
             [
              0.3333333333333333,
              "#9c179e"
             ],
             [
              0.4444444444444444,
              "#bd3786"
             ],
             [
              0.5555555555555556,
              "#d8576b"
             ],
             [
              0.6666666666666666,
              "#ed7953"
             ],
             [
              0.7777777777777778,
              "#fb9f3a"
             ],
             [
              0.8888888888888888,
              "#fdca26"
             ],
             [
              1,
              "#f0f921"
             ]
            ],
            "type": "histogram2d"
           }
          ],
          "histogram2dcontour": [
           {
            "colorbar": {
             "outlinewidth": 0,
             "ticks": ""
            },
            "colorscale": [
             [
              0,
              "#0d0887"
             ],
             [
              0.1111111111111111,
              "#46039f"
             ],
             [
              0.2222222222222222,
              "#7201a8"
             ],
             [
              0.3333333333333333,
              "#9c179e"
             ],
             [
              0.4444444444444444,
              "#bd3786"
             ],
             [
              0.5555555555555556,
              "#d8576b"
             ],
             [
              0.6666666666666666,
              "#ed7953"
             ],
             [
              0.7777777777777778,
              "#fb9f3a"
             ],
             [
              0.8888888888888888,
              "#fdca26"
             ],
             [
              1,
              "#f0f921"
             ]
            ],
            "type": "histogram2dcontour"
           }
          ],
          "mesh3d": [
           {
            "colorbar": {
             "outlinewidth": 0,
             "ticks": ""
            },
            "type": "mesh3d"
           }
          ],
          "parcoords": [
           {
            "line": {
             "colorbar": {
              "outlinewidth": 0,
              "ticks": ""
             }
            },
            "type": "parcoords"
           }
          ],
          "pie": [
           {
            "automargin": true,
            "type": "pie"
           }
          ],
          "scatter": [
           {
            "fillpattern": {
             "fillmode": "overlay",
             "size": 10,
             "solidity": 0.2
            },
            "type": "scatter"
           }
          ],
          "scatter3d": [
           {
            "line": {
             "colorbar": {
              "outlinewidth": 0,
              "ticks": ""
             }
            },
            "marker": {
             "colorbar": {
              "outlinewidth": 0,
              "ticks": ""
             }
            },
            "type": "scatter3d"
           }
          ],
          "scattercarpet": [
           {
            "marker": {
             "colorbar": {
              "outlinewidth": 0,
              "ticks": ""
             }
            },
            "type": "scattercarpet"
           }
          ],
          "scattergeo": [
           {
            "marker": {
             "colorbar": {
              "outlinewidth": 0,
              "ticks": ""
             }
            },
            "type": "scattergeo"
           }
          ],
          "scattergl": [
           {
            "marker": {
             "colorbar": {
              "outlinewidth": 0,
              "ticks": ""
             }
            },
            "type": "scattergl"
           }
          ],
          "scattermapbox": [
           {
            "marker": {
             "colorbar": {
              "outlinewidth": 0,
              "ticks": ""
             }
            },
            "type": "scattermapbox"
           }
          ],
          "scatterpolar": [
           {
            "marker": {
             "colorbar": {
              "outlinewidth": 0,
              "ticks": ""
             }
            },
            "type": "scatterpolar"
           }
          ],
          "scatterpolargl": [
           {
            "marker": {
             "colorbar": {
              "outlinewidth": 0,
              "ticks": ""
             }
            },
            "type": "scatterpolargl"
           }
          ],
          "scatterternary": [
           {
            "marker": {
             "colorbar": {
              "outlinewidth": 0,
              "ticks": ""
             }
            },
            "type": "scatterternary"
           }
          ],
          "surface": [
           {
            "colorbar": {
             "outlinewidth": 0,
             "ticks": ""
            },
            "colorscale": [
             [
              0,
              "#0d0887"
             ],
             [
              0.1111111111111111,
              "#46039f"
             ],
             [
              0.2222222222222222,
              "#7201a8"
             ],
             [
              0.3333333333333333,
              "#9c179e"
             ],
             [
              0.4444444444444444,
              "#bd3786"
             ],
             [
              0.5555555555555556,
              "#d8576b"
             ],
             [
              0.6666666666666666,
              "#ed7953"
             ],
             [
              0.7777777777777778,
              "#fb9f3a"
             ],
             [
              0.8888888888888888,
              "#fdca26"
             ],
             [
              1,
              "#f0f921"
             ]
            ],
            "type": "surface"
           }
          ],
          "table": [
           {
            "cells": {
             "fill": {
              "color": "#EBF0F8"
             },
             "line": {
              "color": "white"
             }
            },
            "header": {
             "fill": {
              "color": "#C8D4E3"
             },
             "line": {
              "color": "white"
             }
            },
            "type": "table"
           }
          ]
         },
         "layout": {
          "annotationdefaults": {
           "arrowcolor": "#2a3f5f",
           "arrowhead": 0,
           "arrowwidth": 1
          },
          "autotypenumbers": "strict",
          "coloraxis": {
           "colorbar": {
            "outlinewidth": 0,
            "ticks": ""
           }
          },
          "colorscale": {
           "diverging": [
            [
             0,
             "#8e0152"
            ],
            [
             0.1,
             "#c51b7d"
            ],
            [
             0.2,
             "#de77ae"
            ],
            [
             0.3,
             "#f1b6da"
            ],
            [
             0.4,
             "#fde0ef"
            ],
            [
             0.5,
             "#f7f7f7"
            ],
            [
             0.6,
             "#e6f5d0"
            ],
            [
             0.7,
             "#b8e186"
            ],
            [
             0.8,
             "#7fbc41"
            ],
            [
             0.9,
             "#4d9221"
            ],
            [
             1,
             "#276419"
            ]
           ],
           "sequential": [
            [
             0,
             "#0d0887"
            ],
            [
             0.1111111111111111,
             "#46039f"
            ],
            [
             0.2222222222222222,
             "#7201a8"
            ],
            [
             0.3333333333333333,
             "#9c179e"
            ],
            [
             0.4444444444444444,
             "#bd3786"
            ],
            [
             0.5555555555555556,
             "#d8576b"
            ],
            [
             0.6666666666666666,
             "#ed7953"
            ],
            [
             0.7777777777777778,
             "#fb9f3a"
            ],
            [
             0.8888888888888888,
             "#fdca26"
            ],
            [
             1,
             "#f0f921"
            ]
           ],
           "sequentialminus": [
            [
             0,
             "#0d0887"
            ],
            [
             0.1111111111111111,
             "#46039f"
            ],
            [
             0.2222222222222222,
             "#7201a8"
            ],
            [
             0.3333333333333333,
             "#9c179e"
            ],
            [
             0.4444444444444444,
             "#bd3786"
            ],
            [
             0.5555555555555556,
             "#d8576b"
            ],
            [
             0.6666666666666666,
             "#ed7953"
            ],
            [
             0.7777777777777778,
             "#fb9f3a"
            ],
            [
             0.8888888888888888,
             "#fdca26"
            ],
            [
             1,
             "#f0f921"
            ]
           ]
          },
          "colorway": [
           "#636efa",
           "#EF553B",
           "#00cc96",
           "#ab63fa",
           "#FFA15A",
           "#19d3f3",
           "#FF6692",
           "#B6E880",
           "#FF97FF",
           "#FECB52"
          ],
          "font": {
           "color": "#2a3f5f"
          },
          "geo": {
           "bgcolor": "white",
           "lakecolor": "white",
           "landcolor": "#E5ECF6",
           "showlakes": true,
           "showland": true,
           "subunitcolor": "white"
          },
          "hoverlabel": {
           "align": "left"
          },
          "hovermode": "closest",
          "mapbox": {
           "style": "light"
          },
          "paper_bgcolor": "white",
          "plot_bgcolor": "#E5ECF6",
          "polar": {
           "angularaxis": {
            "gridcolor": "white",
            "linecolor": "white",
            "ticks": ""
           },
           "bgcolor": "#E5ECF6",
           "radialaxis": {
            "gridcolor": "white",
            "linecolor": "white",
            "ticks": ""
           }
          },
          "scene": {
           "xaxis": {
            "backgroundcolor": "#E5ECF6",
            "gridcolor": "white",
            "gridwidth": 2,
            "linecolor": "white",
            "showbackground": true,
            "ticks": "",
            "zerolinecolor": "white"
           },
           "yaxis": {
            "backgroundcolor": "#E5ECF6",
            "gridcolor": "white",
            "gridwidth": 2,
            "linecolor": "white",
            "showbackground": true,
            "ticks": "",
            "zerolinecolor": "white"
           },
           "zaxis": {
            "backgroundcolor": "#E5ECF6",
            "gridcolor": "white",
            "gridwidth": 2,
            "linecolor": "white",
            "showbackground": true,
            "ticks": "",
            "zerolinecolor": "white"
           }
          },
          "shapedefaults": {
           "line": {
            "color": "#2a3f5f"
           }
          },
          "ternary": {
           "aaxis": {
            "gridcolor": "white",
            "linecolor": "white",
            "ticks": ""
           },
           "baxis": {
            "gridcolor": "white",
            "linecolor": "white",
            "ticks": ""
           },
           "bgcolor": "#E5ECF6",
           "caxis": {
            "gridcolor": "white",
            "linecolor": "white",
            "ticks": ""
           }
          },
          "title": {
           "x": 0.05
          },
          "xaxis": {
           "automargin": true,
           "gridcolor": "white",
           "linecolor": "white",
           "ticks": "",
           "title": {
            "standoff": 15
           },
           "zerolinecolor": "white",
           "zerolinewidth": 2
          },
          "yaxis": {
           "automargin": true,
           "gridcolor": "white",
           "linecolor": "white",
           "ticks": "",
           "title": {
            "standoff": 15
           },
           "zerolinecolor": "white",
           "zerolinewidth": 2
          }
         }
        },
        "xaxis": {
         "anchor": "y",
         "domain": [
          0,
          1
         ],
         "title": {
          "text": "Area Code"
         }
        },
        "yaxis": {
         "anchor": "x",
         "domain": [
          0,
          1
         ],
         "title": {
          "text": "Target_sales"
         }
        }
       }
      }
     },
     "metadata": {},
     "output_type": "display_data"
    }
   ],
   "source": [
    "# Criei o gráfico de barras usando o Plotly para visualizar as metas negativas das lojas\n",
    "fig = px.bar(negative_profit, x=\"Area Code\", y=\"Target_sales\")\n",
    "\n",
    "# Exiba o gráfico\n",
    "fig.show()"
   ]
  }
 ],
 "metadata": {
  "kernelspec": {
   "display_name": "Python 3",
   "language": "python",
   "name": "python3"
  },
  "language_info": {
   "codemirror_mode": {
    "name": "ipython",
    "version": 3
   },
   "file_extension": ".py",
   "mimetype": "text/x-python",
   "name": "python",
   "nbconvert_exporter": "python",
   "pygments_lexer": "ipython3",
   "version": "3.11.3"
  },
  "orig_nbformat": 4
 },
 "nbformat": 4,
 "nbformat_minor": 2
}
