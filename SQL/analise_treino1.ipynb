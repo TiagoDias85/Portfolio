{
 "cells": [
  {
   "cell_type": "code",
   "execution_count": 5,
   "metadata": {},
   "outputs": [],
   "source": [
    "import sqlite3\n",
    "import pandas as pd\n",
    "import matplotlib.pyplot as plt\n",
    "import seaborn as sns"
   ]
  },
  {
   "cell_type": "code",
   "execution_count": 6,
   "metadata": {},
   "outputs": [],
   "source": [
    "# Conectar-se ao banco de dados SQLite\n",
    "conn = sqlite3.connect('treino_1.db')\n",
    "\n",
    "# Ler dados das tabelas Clientes, DadosPessoais e HistoricoCompras\n",
    "df_clientes = pd.read_sql_query('SELECT * FROM Clientes', conn)\n",
    "df_dados_pessoais = pd.read_sql_query('SELECT * FROM DadosPessoais', conn)\n",
    "df_compras = pd.read_sql_query('SELECT * FROM HistoricoCompras', conn)\n",
    "\n"
   ]
  },
  {
   "cell_type": "code",
   "execution_count": 7,
   "metadata": {},
   "outputs": [
    {
     "name": "stdout",
     "output_type": "stream",
     "text": [
      "               name\n",
      "0          Clientes\n",
      "1     DadosPessoais\n",
      "2  HistoricoCompras\n"
     ]
    },
    {
     "data": {
      "text/html": [
       "<div>\n",
       "<style scoped>\n",
       "    .dataframe tbody tr th:only-of-type {\n",
       "        vertical-align: middle;\n",
       "    }\n",
       "\n",
       "    .dataframe tbody tr th {\n",
       "        vertical-align: top;\n",
       "    }\n",
       "\n",
       "    .dataframe thead th {\n",
       "        text-align: right;\n",
       "    }\n",
       "</style>\n",
       "<table border=\"1\" class=\"dataframe\">\n",
       "  <thead>\n",
       "    <tr style=\"text-align: right;\">\n",
       "      <th></th>\n",
       "      <th>cid</th>\n",
       "      <th>name</th>\n",
       "      <th>type</th>\n",
       "      <th>notnull</th>\n",
       "      <th>dflt_value</th>\n",
       "      <th>pk</th>\n",
       "    </tr>\n",
       "  </thead>\n",
       "  <tbody>\n",
       "    <tr>\n",
       "      <th>0</th>\n",
       "      <td>0</td>\n",
       "      <td>ID</td>\n",
       "      <td>INTEGER</td>\n",
       "      <td>0</td>\n",
       "      <td>None</td>\n",
       "      <td>1</td>\n",
       "    </tr>\n",
       "    <tr>\n",
       "      <th>1</th>\n",
       "      <td>1</td>\n",
       "      <td>Nome</td>\n",
       "      <td>TEXT</td>\n",
       "      <td>0</td>\n",
       "      <td>None</td>\n",
       "      <td>0</td>\n",
       "    </tr>\n",
       "    <tr>\n",
       "      <th>2</th>\n",
       "      <td>2</td>\n",
       "      <td>Idade</td>\n",
       "      <td>INTEGER</td>\n",
       "      <td>0</td>\n",
       "      <td>None</td>\n",
       "      <td>0</td>\n",
       "    </tr>\n",
       "    <tr>\n",
       "      <th>3</th>\n",
       "      <td>3</td>\n",
       "      <td>Email</td>\n",
       "      <td>TEXT</td>\n",
       "      <td>0</td>\n",
       "      <td>None</td>\n",
       "      <td>0</td>\n",
       "    </tr>\n",
       "  </tbody>\n",
       "</table>\n",
       "</div>"
      ],
      "text/plain": [
       "   cid   name     type  notnull dflt_value  pk\n",
       "0    0     ID  INTEGER        0       None   1\n",
       "1    1   Nome     TEXT        0       None   0\n",
       "2    2  Idade  INTEGER        0       None   0\n",
       "3    3  Email     TEXT        0       None   0"
      ]
     },
     "metadata": {},
     "output_type": "display_data"
    }
   ],
   "source": [
    "# Listar todas as tabelas no banco de dados\n",
    "tables = pd.read_sql_query(\"SELECT name FROM sqlite_master WHERE type='table';\", conn)\n",
    "print(tables)\n",
    "\n",
    "# Verificar a estrutura da tabela 'Clientes'\n",
    "if 'Clientes' in tables['name'].values:\n",
    "    table_info = pd.read_sql_query(\"PRAGMA table_info(Clientes);\", conn)\n",
    "    display(table_info)\n",
    "\n",
    "\n",
    "# Fechar a conexão com o banco de dados\n",
    "conn.close()"
   ]
  },
  {
   "cell_type": "code",
   "execution_count": 11,
   "metadata": {},
   "outputs": [
    {
     "name": "stdout",
     "output_type": "stream",
     "text": [
      "Clientes:\n"
     ]
    },
    {
     "data": {
      "text/html": [
       "<div>\n",
       "<style scoped>\n",
       "    .dataframe tbody tr th:only-of-type {\n",
       "        vertical-align: middle;\n",
       "    }\n",
       "\n",
       "    .dataframe tbody tr th {\n",
       "        vertical-align: top;\n",
       "    }\n",
       "\n",
       "    .dataframe thead th {\n",
       "        text-align: right;\n",
       "    }\n",
       "</style>\n",
       "<table border=\"1\" class=\"dataframe\">\n",
       "  <thead>\n",
       "    <tr style=\"text-align: right;\">\n",
       "      <th></th>\n",
       "      <th>ID</th>\n",
       "      <th>Nome</th>\n",
       "      <th>Idade</th>\n",
       "      <th>Email</th>\n",
       "    </tr>\n",
       "  </thead>\n",
       "  <tbody>\n",
       "    <tr>\n",
       "      <th>0</th>\n",
       "      <td>1</td>\n",
       "      <td>Mrs. Emily Quinn</td>\n",
       "      <td>78</td>\n",
       "      <td>jennifernelson@example.net</td>\n",
       "    </tr>\n",
       "    <tr>\n",
       "      <th>1</th>\n",
       "      <td>2</td>\n",
       "      <td>Natalie Watson</td>\n",
       "      <td>76</td>\n",
       "      <td>kimberlyalexander@example.org</td>\n",
       "    </tr>\n",
       "    <tr>\n",
       "      <th>2</th>\n",
       "      <td>3</td>\n",
       "      <td>Drew Bowen</td>\n",
       "      <td>29</td>\n",
       "      <td>thomasjessica@example.net</td>\n",
       "    </tr>\n",
       "    <tr>\n",
       "      <th>3</th>\n",
       "      <td>4</td>\n",
       "      <td>Alexa Powers</td>\n",
       "      <td>43</td>\n",
       "      <td>tammyolson@example.net</td>\n",
       "    </tr>\n",
       "    <tr>\n",
       "      <th>4</th>\n",
       "      <td>5</td>\n",
       "      <td>Denise Poole</td>\n",
       "      <td>63</td>\n",
       "      <td>bjames@example.org</td>\n",
       "    </tr>\n",
       "  </tbody>\n",
       "</table>\n",
       "</div>"
      ],
      "text/plain": [
       "   ID              Nome  Idade                          Email\n",
       "0   1  Mrs. Emily Quinn     78     jennifernelson@example.net\n",
       "1   2    Natalie Watson     76  kimberlyalexander@example.org\n",
       "2   3        Drew Bowen     29      thomasjessica@example.net\n",
       "3   4      Alexa Powers     43         tammyolson@example.net\n",
       "4   5      Denise Poole     63             bjames@example.org"
      ]
     },
     "metadata": {},
     "output_type": "display_data"
    }
   ],
   "source": [
    "# Análise exploratória de dados\n",
    "# 1. Visualizar as primeiras linhas dos DataFrames\n",
    "print(\"Clientes:\")\n",
    "display(df_clientes.head())"
   ]
  },
  {
   "cell_type": "code",
   "execution_count": 10,
   "metadata": {},
   "outputs": [
    {
     "name": "stdout",
     "output_type": "stream",
     "text": [
      "\n",
      "Dados Pessoais:\n"
     ]
    },
    {
     "data": {
      "text/html": [
       "<div>\n",
       "<style scoped>\n",
       "    .dataframe tbody tr th:only-of-type {\n",
       "        vertical-align: middle;\n",
       "    }\n",
       "\n",
       "    .dataframe tbody tr th {\n",
       "        vertical-align: top;\n",
       "    }\n",
       "\n",
       "    .dataframe thead th {\n",
       "        text-align: right;\n",
       "    }\n",
       "</style>\n",
       "<table border=\"1\" class=\"dataframe\">\n",
       "  <thead>\n",
       "    <tr style=\"text-align: right;\">\n",
       "      <th></th>\n",
       "      <th>ClienteID</th>\n",
       "      <th>Endereco</th>\n",
       "      <th>Telefone</th>\n",
       "    </tr>\n",
       "  </thead>\n",
       "  <tbody>\n",
       "    <tr>\n",
       "      <th>0</th>\n",
       "      <td>1</td>\n",
       "      <td>1226 Holmes Inlet\\nChapmanville, MO 63158</td>\n",
       "      <td>+1-469-229-9559x7541</td>\n",
       "    </tr>\n",
       "    <tr>\n",
       "      <th>1</th>\n",
       "      <td>2</td>\n",
       "      <td>401 Rodriguez Plaza\\nSheltonmouth, OH 59247</td>\n",
       "      <td>001-310-965-5453x02895</td>\n",
       "    </tr>\n",
       "    <tr>\n",
       "      <th>2</th>\n",
       "      <td>3</td>\n",
       "      <td>984 Jonathan Walks\\nEast Christopher, VA 74543</td>\n",
       "      <td>934-724-2462</td>\n",
       "    </tr>\n",
       "    <tr>\n",
       "      <th>3</th>\n",
       "      <td>4</td>\n",
       "      <td>6396 Tanya Passage Apt. 756\\nPetersburgh, ND 5...</td>\n",
       "      <td>001-586-981-0357x6884</td>\n",
       "    </tr>\n",
       "    <tr>\n",
       "      <th>4</th>\n",
       "      <td>5</td>\n",
       "      <td>1090 Tyler Underpass Suite 137\\nNew Justinfurt...</td>\n",
       "      <td>7934345481</td>\n",
       "    </tr>\n",
       "  </tbody>\n",
       "</table>\n",
       "</div>"
      ],
      "text/plain": [
       "   ClienteID                                           Endereco  \\\n",
       "0          1          1226 Holmes Inlet\\nChapmanville, MO 63158   \n",
       "1          2        401 Rodriguez Plaza\\nSheltonmouth, OH 59247   \n",
       "2          3     984 Jonathan Walks\\nEast Christopher, VA 74543   \n",
       "3          4  6396 Tanya Passage Apt. 756\\nPetersburgh, ND 5...   \n",
       "4          5  1090 Tyler Underpass Suite 137\\nNew Justinfurt...   \n",
       "\n",
       "                 Telefone  \n",
       "0    +1-469-229-9559x7541  \n",
       "1  001-310-965-5453x02895  \n",
       "2            934-724-2462  \n",
       "3   001-586-981-0357x6884  \n",
       "4              7934345481  "
      ]
     },
     "metadata": {},
     "output_type": "display_data"
    }
   ],
   "source": [
    "print(\"\\nDados Pessoais:\")\n",
    "display(df_dados_pessoais.head())"
   ]
  },
  {
   "cell_type": "code",
   "execution_count": 12,
   "metadata": {},
   "outputs": [
    {
     "name": "stdout",
     "output_type": "stream",
     "text": [
      "\n",
      "Histórico de Compras:\n"
     ]
    },
    {
     "data": {
      "text/html": [
       "<div>\n",
       "<style scoped>\n",
       "    .dataframe tbody tr th:only-of-type {\n",
       "        vertical-align: middle;\n",
       "    }\n",
       "\n",
       "    .dataframe tbody tr th {\n",
       "        vertical-align: top;\n",
       "    }\n",
       "\n",
       "    .dataframe thead th {\n",
       "        text-align: right;\n",
       "    }\n",
       "</style>\n",
       "<table border=\"1\" class=\"dataframe\">\n",
       "  <thead>\n",
       "    <tr style=\"text-align: right;\">\n",
       "      <th></th>\n",
       "      <th>CompraID</th>\n",
       "      <th>ClienteID</th>\n",
       "      <th>Produto</th>\n",
       "      <th>Valor</th>\n",
       "      <th>DataCompra</th>\n",
       "    </tr>\n",
       "  </thead>\n",
       "  <tbody>\n",
       "    <tr>\n",
       "      <th>0</th>\n",
       "      <td>1</td>\n",
       "      <td>1</td>\n",
       "      <td>site</td>\n",
       "      <td>49</td>\n",
       "      <td>2023-04-11</td>\n",
       "    </tr>\n",
       "    <tr>\n",
       "      <th>1</th>\n",
       "      <td>2</td>\n",
       "      <td>2</td>\n",
       "      <td>art</td>\n",
       "      <td>87</td>\n",
       "      <td>2023-01-17</td>\n",
       "    </tr>\n",
       "    <tr>\n",
       "      <th>2</th>\n",
       "      <td>3</td>\n",
       "      <td>3</td>\n",
       "      <td>choice</td>\n",
       "      <td>22</td>\n",
       "      <td>2023-09-02</td>\n",
       "    </tr>\n",
       "    <tr>\n",
       "      <th>3</th>\n",
       "      <td>4</td>\n",
       "      <td>4</td>\n",
       "      <td>there</td>\n",
       "      <td>87</td>\n",
       "      <td>2023-02-27</td>\n",
       "    </tr>\n",
       "    <tr>\n",
       "      <th>4</th>\n",
       "      <td>5</td>\n",
       "      <td>5</td>\n",
       "      <td>hair</td>\n",
       "      <td>86</td>\n",
       "      <td>2023-05-22</td>\n",
       "    </tr>\n",
       "  </tbody>\n",
       "</table>\n",
       "</div>"
      ],
      "text/plain": [
       "   CompraID  ClienteID Produto  Valor  DataCompra\n",
       "0         1          1    site     49  2023-04-11\n",
       "1         2          2     art     87  2023-01-17\n",
       "2         3          3  choice     22  2023-09-02\n",
       "3         4          4   there     87  2023-02-27\n",
       "4         5          5    hair     86  2023-05-22"
      ]
     },
     "metadata": {},
     "output_type": "display_data"
    }
   ],
   "source": [
    "print(\"\\nHistórico de Compras:\")\n",
    "display(df_compras.head())"
   ]
  },
  {
   "cell_type": "code",
   "execution_count": 13,
   "metadata": {},
   "outputs": [
    {
     "name": "stdout",
     "output_type": "stream",
     "text": [
      "\n",
      "Estatísticas Descritivas para Idade dos Clientes:\n",
      "count    100.000000\n",
      "mean      49.930000\n",
      "std       19.246018\n",
      "min       19.000000\n",
      "25%       34.750000\n",
      "50%       46.000000\n",
      "75%       69.000000\n",
      "max       80.000000\n",
      "Name: Idade, dtype: float64\n"
     ]
    }
   ],
   "source": [
    "# 2. Estatísticas descritivas\n",
    "print(\"\\nEstatísticas Descritivas para Idade dos Clientes:\")\n",
    "print(df_clientes['Idade'].describe())"
   ]
  },
  {
   "cell_type": "code",
   "execution_count": 14,
   "metadata": {},
   "outputs": [
    {
     "name": "stdout",
     "output_type": "stream",
     "text": [
      "\n",
      "Contagem de Compras por Cliente:\n",
      "ClienteID\n",
      "1      1\n",
      "64     1\n",
      "74     1\n",
      "73     1\n",
      "72     1\n",
      "      ..\n",
      "31     1\n",
      "30     1\n",
      "29     1\n",
      "28     1\n",
      "100    1\n",
      "Name: count, Length: 100, dtype: int64\n"
     ]
    }
   ],
   "source": [
    "# 3. Contagem de compras por cliente\n",
    "compras_por_cliente = df_compras['ClienteID'].value_counts()\n",
    "print(\"\\nContagem de Compras por Cliente:\")\n",
    "print(compras_por_cliente)"
   ]
  },
  {
   "cell_type": "code",
   "execution_count": 15,
   "metadata": {},
   "outputs": [
    {
     "data": {
      "image/png": "[encoded data removed]",
      "text/plain": [
       "<Figure size 800x600 with 1 Axes>"
      ]
     },
     "metadata": {},
     "output_type": "display_data"
    }
   ],
   "source": [
    "# 4. Visualização: Histograma de Idade dos Clientes\n",
    "plt.figure(figsize=(8, 6))\n",
    "sns.histplot(df_clientes['Idade'], bins=20, kde=True)\n",
    "plt.title('Histograma de Idade dos Clientes')\n",
    "plt.xlabel('Idade')\n",
    "plt.ylabel('Frequência')\n",
    "plt.show()"
   ]
  },
  {
   "cell_type": "code",
   "execution_count": 16,
   "metadata": {},
   "outputs": [
    {
     "data": {
      "image/png": "[encoded data removed]",
      "text/plain": [
       "<Figure size 1000x600 with 1 Axes>"
      ]
     },
     "metadata": {},
     "output_type": "display_data"
    }
   ],
   "source": [
    "# 5. Visualização: Gráfico de barras de contagem de compras por cliente\n",
    "plt.figure(figsize=(10, 6))\n",
    "compras_por_cliente.plot(kind='bar')\n",
    "plt.title('Contagem de Compras por Cliente')\n",
    "plt.xlabel('Cliente ID')\n",
    "plt.ylabel('Número de Compras')\n",
    "plt.show()"
   ]
  },
  {
   "cell_type": "code",
   "execution_count": 17,
   "metadata": {},
   "outputs": [],
   "source": [
    "# 6. Join dos DataFrames para análise combinada\n",
    "df_completo = pd.merge(df_clientes, df_dados_pessoais, how='inner', left_on='ID', right_on='ClienteID')\n",
    "df_completo = pd.merge(df_completo, df_compras, how='left', left_on='ID', right_on='ClienteID')"
   ]
  },
  {
   "cell_type": "code",
   "execution_count": null,
   "metadata": {},
   "outputs": [],
   "source": [
    "# 7. Análise de correlação entre idade e valor das compras\n",
    "correlacao_idade_valor_compras = df_completo[['Idade', 'Valor']].corr()\n",
    "print(\"\\nCorrelação entre Idade dos Clientes e Valor das Compras:\")\n",
    "print(correlacao_idade_valor_compras)"
   ]
  },
  {
   "cell_type": "code",
   "execution_count": null,
   "metadata": {},
   "outputs": [],
   "source": [
    "# 8. Visualização: Scatter plot de idade versus valor das compras\n",
    "plt.figure(figsize=(10, 6))\n",
    "sns.scatterplot(x='Idade', y='Valor', data=df_completo)\n",
    "plt.title('Scatter Plot: Idade versus Valor das Compras')\n",
    "plt.xlabel('Idade dos Clientes')\n",
    "plt.ylabel('Valor das Compras')\n",
    "plt.show()"
   ]
  }
 ],
 "metadata": {
  "kernelspec": {
   "display_name": "Python 3",
   "language": "python",
   "name": "python3"
  },
  "language_info": {
   "codemirror_mode": {
    "name": "ipython",
    "version": 3
   },
   "file_extension": ".py",
   "mimetype": "text/x-python",
   "name": "python",
   "nbconvert_exporter": "python",
   "pygments_lexer": "ipython3",
   "version": "3.12.0"
  }
 },
 "nbformat": 4,
 "nbformat_minor": 2
}
